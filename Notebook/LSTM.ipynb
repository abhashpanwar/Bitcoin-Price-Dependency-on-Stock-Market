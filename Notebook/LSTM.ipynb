{
  "nbformat": 4,
  "nbformat_minor": 0,
  "metadata": {
    "colab": {
      "name": "LSTM.ipynb",
      "provenance": [],
      "collapsed_sections": [],
      "toc_visible": true
    },
    "kernelspec": {
      "name": "python3",
      "display_name": "Python 3"
    }
  },
  "cells": [
    {
      "cell_type": "code",
      "metadata": {
        "id": "vFx4doUYxKG1"
      },
      "source": [
        "import pandas as pd \n",
        "import numpy as np\n",
        "import matplotlib.pyplot as plt\n",
        "import seaborn as sns\n",
        "import scipy.stats as stats\n",
        "import statsmodels.graphics.tsaplots as snt\n",
        "from sklearn.metrics import mean_absolute_error, mean_squared_error\n",
        "import math  \n",
        "\n",
        "import datetime as dt\n",
        "from datetime import datetime\n",
        "\n",
        "from keras.callbacks import EarlyStopping, ReduceLROnPlateau, ModelCheckpoint, TensorBoard\n",
        "\n",
        "%matplotlib inline"
      ],
      "execution_count": 233,
      "outputs": []
    },
    {
      "cell_type": "markdown",
      "metadata": {
        "id": "LTjOLigTxNHy"
      },
      "source": [
        "# Loading Data"
      ]
    },
    {
      "cell_type": "code",
      "metadata": {
        "id": "zdeGUs74xK5U",
        "outputId": "8c260e17-8145-47f6-f59d-0341508ea5f6",
        "colab": {
          "base_uri": "https://localhost:8080/",
          "height": 329
        }
      },
      "source": [
        "\n",
        "df = pd.read_csv('/content/dataset_final.csv', parse_dates=['date'], index_col=['date'])\n",
        "df = df.drop('Unnamed: 0', axis=1)\n",
        "df.head()"
      ],
      "execution_count": 234,
      "outputs": [
        {
          "output_type": "execute_result",
          "data": {
            "text/html": [
              "<div>\n",
              "<style scoped>\n",
              "    .dataframe tbody tr th:only-of-type {\n",
              "        vertical-align: middle;\n",
              "    }\n",
              "\n",
              "    .dataframe tbody tr th {\n",
              "        vertical-align: top;\n",
              "    }\n",
              "\n",
              "    .dataframe thead th {\n",
              "        text-align: right;\n",
              "    }\n",
              "</style>\n",
              "<table border=\"1\" class=\"dataframe\">\n",
              "  <thead>\n",
              "    <tr style=\"text-align: right;\">\n",
              "      <th></th>\n",
              "      <th>btc_price</th>\n",
              "      <th>gold_price</th>\n",
              "      <th>oil_wti_price</th>\n",
              "      <th>sp500_close</th>\n",
              "      <th>btc_num_trans</th>\n",
              "      <th>btc_google_search</th>\n",
              "      <th>btc_dr</th>\n",
              "      <th>gold_dr</th>\n",
              "      <th>oil_dr</th>\n",
              "      <th>sp500_dr</th>\n",
              "      <th>BVOL</th>\n",
              "      <th>GVOL</th>\n",
              "      <th>OVOL</th>\n",
              "      <th>VIX</th>\n",
              "    </tr>\n",
              "    <tr>\n",
              "      <th>date</th>\n",
              "      <th></th>\n",
              "      <th></th>\n",
              "      <th></th>\n",
              "      <th></th>\n",
              "      <th></th>\n",
              "      <th></th>\n",
              "      <th></th>\n",
              "      <th></th>\n",
              "      <th></th>\n",
              "      <th></th>\n",
              "      <th></th>\n",
              "      <th></th>\n",
              "      <th></th>\n",
              "      <th></th>\n",
              "    </tr>\n",
              "  </thead>\n",
              "  <tbody>\n",
              "    <tr>\n",
              "      <th>2015-01-15</th>\n",
              "      <td>211.91</td>\n",
              "      <td>1352.8</td>\n",
              "      <td>46.37</td>\n",
              "      <td>1992.67</td>\n",
              "      <td>102309.0</td>\n",
              "      <td>3</td>\n",
              "      <td>0.568670</td>\n",
              "      <td>0.021141</td>\n",
              "      <td>-0.044705</td>\n",
              "      <td>-0.009291</td>\n",
              "      <td>0.853974</td>\n",
              "      <td>0.344132</td>\n",
              "      <td>0.344950</td>\n",
              "      <td>22.39</td>\n",
              "    </tr>\n",
              "    <tr>\n",
              "      <th>2015-01-16</th>\n",
              "      <td>199.46</td>\n",
              "      <td>1364.9</td>\n",
              "      <td>48.49</td>\n",
              "      <td>2019.42</td>\n",
              "      <td>104699.0</td>\n",
              "      <td>3</td>\n",
              "      <td>-0.060548</td>\n",
              "      <td>0.008905</td>\n",
              "      <td>0.044705</td>\n",
              "      <td>0.013335</td>\n",
              "      <td>0.857286</td>\n",
              "      <td>0.348453</td>\n",
              "      <td>0.346061</td>\n",
              "      <td>20.95</td>\n",
              "    </tr>\n",
              "    <tr>\n",
              "      <th>2015-01-20</th>\n",
              "      <td>208.00</td>\n",
              "      <td>1377.4</td>\n",
              "      <td>46.79</td>\n",
              "      <td>2022.55</td>\n",
              "      <td>98485.0</td>\n",
              "      <td>3</td>\n",
              "      <td>0.041924</td>\n",
              "      <td>0.009116</td>\n",
              "      <td>-0.035688</td>\n",
              "      <td>0.001549</td>\n",
              "      <td>0.857176</td>\n",
              "      <td>0.348518</td>\n",
              "      <td>0.346647</td>\n",
              "      <td>19.89</td>\n",
              "    </tr>\n",
              "    <tr>\n",
              "      <th>2015-01-21</th>\n",
              "      <td>225.51</td>\n",
              "      <td>1378.4</td>\n",
              "      <td>47.85</td>\n",
              "      <td>2032.12</td>\n",
              "      <td>98485.0</td>\n",
              "      <td>3</td>\n",
              "      <td>0.080826</td>\n",
              "      <td>0.000726</td>\n",
              "      <td>0.022402</td>\n",
              "      <td>0.004720</td>\n",
              "      <td>0.893605</td>\n",
              "      <td>0.350149</td>\n",
              "      <td>0.347336</td>\n",
              "      <td>18.85</td>\n",
              "    </tr>\n",
              "    <tr>\n",
              "      <th>2015-01-22</th>\n",
              "      <td>226.32</td>\n",
              "      <td>1390.2</td>\n",
              "      <td>45.93</td>\n",
              "      <td>2063.15</td>\n",
              "      <td>93698.0</td>\n",
              "      <td>3</td>\n",
              "      <td>0.003585</td>\n",
              "      <td>0.008524</td>\n",
              "      <td>-0.040953</td>\n",
              "      <td>0.015154</td>\n",
              "      <td>0.904949</td>\n",
              "      <td>0.351242</td>\n",
              "      <td>0.343230</td>\n",
              "      <td>16.40</td>\n",
              "    </tr>\n",
              "  </tbody>\n",
              "</table>\n",
              "</div>"
            ],
            "text/plain": [
              "            btc_price  gold_price  oil_wti_price  ...      GVOL      OVOL    VIX\n",
              "date                                              ...                           \n",
              "2015-01-15     211.91      1352.8          46.37  ...  0.344132  0.344950  22.39\n",
              "2015-01-16     199.46      1364.9          48.49  ...  0.348453  0.346061  20.95\n",
              "2015-01-20     208.00      1377.4          46.79  ...  0.348518  0.346647  19.89\n",
              "2015-01-21     225.51      1378.4          47.85  ...  0.350149  0.347336  18.85\n",
              "2015-01-22     226.32      1390.2          45.93  ...  0.351242  0.343230  16.40\n",
              "\n",
              "[5 rows x 14 columns]"
            ]
          },
          "metadata": {
            "tags": []
          },
          "execution_count": 234
        }
      ]
    },
    {
      "cell_type": "code",
      "metadata": {
        "id": "71tvocCP8XVX"
      },
      "source": [
        "df = df.loc['2016-01-01':]"
      ],
      "execution_count": 235,
      "outputs": []
    },
    {
      "cell_type": "code",
      "metadata": {
        "id": "Wn9rtYhCxoFH",
        "outputId": "9d2e0bd4-7160-434c-aeae-8334ada229c9",
        "colab": {
          "base_uri": "https://localhost:8080/",
          "height": 87
        }
      },
      "source": [
        "# Select features (columns) to be involved intro training and predictions\n",
        "cols = list(df)[0:14]\n",
        "cols\n",
        "\n",
        "# Extract dates (will be used in visualization)\n",
        "datelist_train = list(df.index)\n",
        "datelist_train\n",
        "\n",
        "print('Training set shape == {}'.format(df.shape))\n",
        "print('All timestamps == {}'.format(len(datelist_train)))\n",
        "print('Featured selected: {}'.format(cols))"
      ],
      "execution_count": 236,
      "outputs": [
        {
          "output_type": "stream",
          "text": [
            "Training set shape == (1078, 14)\n",
            "All timestamps == 1078\n",
            "Featured selected: ['btc_price', 'gold_price', 'oil_wti_price', 'sp500_close', 'btc_num_trans', 'btc_google_search', 'btc_dr', 'gold_dr', 'oil_dr', 'sp500_dr', 'BVOL', 'GVOL', 'OVOL', 'VIX']\n"
          ],
          "name": "stdout"
        }
      ]
    },
    {
      "cell_type": "markdown",
      "metadata": {
        "id": "B89KmYBqAzn7"
      },
      "source": [
        "# Data pre-processing\n"
      ]
    },
    {
      "cell_type": "code",
      "metadata": {
        "id": "FDgowHfExoPF",
        "outputId": "4e4b1e8c-f63e-44db-cc65-251ae772301d",
        "colab": {
          "base_uri": "https://localhost:8080/",
          "height": 252
        }
      },
      "source": [
        "df = df[cols].astype(str)\n",
        "for i in cols:\n",
        "    for j in range(0, len(df)):\n",
        "        df[i][j] = df[i][j].replace(',', '')\n",
        "\n",
        "df = df.astype(float)\n",
        "\n",
        "# Using multiple features (predictors)\n",
        "training_set = df[cols].values\n",
        "\n",
        "print('Shape of training set == {}.'.format(training_set.shape))\n",
        "training_set"
      ],
      "execution_count": 237,
      "outputs": [
        {
          "output_type": "stream",
          "text": [
            "Shape of training set == (1078, 14).\n"
          ],
          "name": "stdout"
        },
        {
          "output_type": "execute_result",
          "data": {
            "text/plain": [
              "array([[4.33420000e+02, 1.12530000e+03, 3.68100000e+01, ...,\n",
              "        1.81062055e-01, 4.09702048e-01, 2.07000000e+01],\n",
              "       [4.32670000e+02, 1.12820000e+03, 3.59700000e+01, ...,\n",
              "        1.83742049e-01, 4.35934330e-01, 1.93400000e+01],\n",
              "       [4.32440000e+02, 1.14170000e+03, 3.39700000e+01, ...,\n",
              "        1.86100796e-01, 4.13183108e-01, 2.05900000e+01],\n",
              "       ...,\n",
              "       [7.48883000e+03, 1.74540000e+03, 1.50600000e+01, ...,\n",
              "        3.62172970e-01, 1.67877017e+00, 4.13800000e+01],\n",
              "       [7.51464000e+03, 1.73560000e+03, 1.59900000e+01, ...,\n",
              "        3.51590076e-01, 1.69290154e+00, 3.59300000e+01],\n",
              "       [7.78977000e+03, 1.72380000e+03, 1.21700000e+01, ...,\n",
              "        3.24403678e-01, 1.67803203e+00, 3.32900000e+01]])"
            ]
          },
          "metadata": {
            "tags": []
          },
          "execution_count": 237
        }
      ]
    },
    {
      "cell_type": "code",
      "metadata": {
        "id": "u_qRd9g5xoUo",
        "outputId": "0753a579-8ebd-4e19-e7d3-96183debf2f0",
        "colab": {
          "base_uri": "https://localhost:8080/",
          "height": 134
        }
      },
      "source": [
        "# Feature Scaling\n",
        "from sklearn.preprocessing import StandardScaler, MinMaxScaler\n",
        "\n",
        "sc = MinMaxScaler(feature_range=(0, 1))\n",
        "training_set_scaled = sc.fit_transform(training_set)\n",
        "\n",
        "sc_predict = MinMaxScaler(feature_range=(0, 1))\n",
        "sc_predict.fit_transform(training_set[:, 0:1])"
      ],
      "execution_count": 238,
      "outputs": [
        {
          "output_type": "execute_result",
          "data": {
            "text/plain": [
              "array([[0.0035572 ],\n",
              "       [0.00351703],\n",
              "       [0.00350471],\n",
              "       ...,\n",
              "       [0.38141763],\n",
              "       [0.38279991],\n",
              "       [0.39753481]])"
            ]
          },
          "metadata": {
            "tags": []
          },
          "execution_count": 238
        }
      ]
    },
    {
      "cell_type": "code",
      "metadata": {
        "id": "bA6f6FFyxoZA",
        "outputId": "f19a05d2-cd15-47cd-9e0a-769ff80e35b9",
        "colab": {
          "base_uri": "https://localhost:8080/",
          "height": 50
        }
      },
      "source": [
        "# Creating a data structure with 90 timestamps and 1 output\n",
        "X_train = []\n",
        "y_train = []\n",
        "\n",
        "n_future = 60   # Number of days we want top predict into the future\n",
        "n_past = 5     # Number of past days we want to use to predict the future\n",
        "\n",
        "for i in range(n_past, len(training_set_scaled) - n_future +1):\n",
        "    X_train.append(training_set_scaled[i - n_past:i, 0:df.shape[1] - 1])\n",
        "    y_train.append(training_set_scaled[i + n_future - 1:i + n_future, 0])\n",
        "\n",
        "X_train, y_train = np.array(X_train), np.array(y_train)\n",
        "\n",
        "print('X_train shape == {}.'.format(X_train.shape))\n",
        "print('y_train shape == {}.'.format(y_train.shape))"
      ],
      "execution_count": 239,
      "outputs": [
        {
          "output_type": "stream",
          "text": [
            "X_train shape == (1014, 5, 13).\n",
            "y_train shape == (1014, 1).\n"
          ],
          "name": "stdout"
        }
      ]
    },
    {
      "cell_type": "markdown",
      "metadata": {
        "id": "_T92zslSA5qo"
      },
      "source": [
        "# Create a model"
      ]
    },
    {
      "cell_type": "code",
      "metadata": {
        "id": "MY7hCMxbxOCn"
      },
      "source": [
        "# Import Libraries and packages from Keras\n",
        "from keras.models import Sequential\n",
        "from keras.layers import Dense\n",
        "from keras.layers import LSTM\n",
        "from keras.layers import Dropout\n",
        "from keras.optimizers import Adam"
      ],
      "execution_count": 240,
      "outputs": []
    },
    {
      "cell_type": "code",
      "metadata": {
        "id": "_VWLxC9x3rXC"
      },
      "source": [
        "# Initializing the Neural Network based on LSTM\n",
        "model = Sequential()\n",
        "\n",
        "# Adding 1st LSTM layer\n",
        "model.add(LSTM(units=64, return_sequences=True, input_shape=(n_past, df.shape[1]-1)))\n",
        "# Adding 2nd LSTM layer\n",
        "model.add(LSTM(units=10, return_sequences=False))\n",
        "\n",
        "# Adding Dropout\n",
        "model.add(Dropout(0.25))\n",
        "\n",
        "# Output layer\n",
        "model.add(Dense(units=1))\n",
        "\n",
        "# Compiling the Neural Network\n",
        "model.compile(optimizer = Adam(learning_rate=0.01), loss='mean_squared_error')"
      ],
      "execution_count": 241,
      "outputs": []
    },
    {
      "cell_type": "code",
      "metadata": {
        "id": "STBXDkzz3wWC",
        "outputId": "0c360a43-2111-4805-9c58-919bff3d3bff",
        "colab": {
          "base_uri": "https://localhost:8080/",
          "height": 1000
        }
      },
      "source": [
        "%%time\n",
        "es = EarlyStopping(monitor='val_loss', min_delta=1e-10, patience=10, verbose=1)\n",
        "rlr = ReduceLROnPlateau(monitor='val_loss', factor=0.5, patience=10, verbose=1)\n",
        "mcp = ModelCheckpoint(filepath='weights.h5', monitor='val_loss', verbose=1, save_best_only=True, save_weights_only=True)\n",
        "\n",
        "tb = TensorBoard('logs')\n",
        "\n",
        "history = model.fit(X_train, y_train, shuffle=False, epochs=30, callbacks=[es, rlr, mcp, tb], validation_split=0.2, verbose=1, batch_size=256)"
      ],
      "execution_count": 242,
      "outputs": [
        {
          "output_type": "stream",
          "text": [
            "Epoch 1/30\n",
            "2/4 [==============>...............] - ETA: 0s - loss: 0.0746WARNING:tensorflow:Callbacks method `on_train_batch_end` is slow compared to the batch time (batch time: 0.0274s vs `on_train_batch_end` time: 0.1655s). Check your callbacks.\n",
            "\n",
            "Epoch 00001: val_loss improved from inf to 0.07285, saving model to weights.h5\n",
            "4/4 [==============================] - 1s 229ms/step - loss: 0.0637 - val_loss: 0.0728\n",
            "Epoch 2/30\n",
            "1/4 [======>.......................] - ETA: 0s - loss: 0.0206\n",
            "Epoch 00002: val_loss improved from 0.07285 to 0.00936, saving model to weights.h5\n",
            "4/4 [==============================] - 0s 16ms/step - loss: 0.0324 - val_loss: 0.0094\n",
            "Epoch 3/30\n",
            "1/4 [======>.......................] - ETA: 0s - loss: 0.0920\n",
            "Epoch 00003: val_loss did not improve from 0.00936\n",
            "4/4 [==============================] - 0s 14ms/step - loss: 0.0531 - val_loss: 0.0182\n",
            "Epoch 4/30\n",
            "1/4 [======>.......................] - ETA: 0s - loss: 0.0208\n",
            "Epoch 00004: val_loss did not improve from 0.00936\n",
            "4/4 [==============================] - 0s 14ms/step - loss: 0.0298 - val_loss: 0.0194\n",
            "Epoch 5/30\n",
            "1/4 [======>.......................] - ETA: 0s - loss: 0.0072\n",
            "Epoch 00005: val_loss did not improve from 0.00936\n",
            "4/4 [==============================] - 0s 14ms/step - loss: 0.0228 - val_loss: 0.0098\n",
            "Epoch 6/30\n",
            "1/4 [======>.......................] - ETA: 0s - loss: 0.0133\n",
            "Epoch 00006: val_loss improved from 0.00936 to 0.00926, saving model to weights.h5\n",
            "4/4 [==============================] - 0s 15ms/step - loss: 0.0281 - val_loss: 0.0093\n",
            "Epoch 7/30\n",
            "1/4 [======>.......................] - ETA: 0s - loss: 0.0039\n",
            "Epoch 00007: val_loss improved from 0.00926 to 0.00916, saving model to weights.h5\n",
            "4/4 [==============================] - 0s 15ms/step - loss: 0.0218 - val_loss: 0.0092\n",
            "Epoch 8/30\n",
            "1/4 [======>.......................] - ETA: 0s - loss: 0.0048\n",
            "Epoch 00008: val_loss did not improve from 0.00916\n",
            "4/4 [==============================] - 0s 13ms/step - loss: 0.0228 - val_loss: 0.0115\n",
            "Epoch 9/30\n",
            "1/4 [======>.......................] - ETA: 0s - loss: 0.0052\n",
            "Epoch 00009: val_loss improved from 0.00916 to 0.00887, saving model to weights.h5\n",
            "4/4 [==============================] - 0s 15ms/step - loss: 0.0212 - val_loss: 0.0089\n",
            "Epoch 10/30\n",
            "1/4 [======>.......................] - ETA: 0s - loss: 0.0050\n",
            "Epoch 00010: val_loss improved from 0.00887 to 0.00878, saving model to weights.h5\n",
            "4/4 [==============================] - 0s 16ms/step - loss: 0.0205 - val_loss: 0.0088\n",
            "Epoch 11/30\n",
            "1/4 [======>.......................] - ETA: 0s - loss: 0.0055\n",
            "Epoch 00011: val_loss did not improve from 0.00878\n",
            "4/4 [==============================] - 0s 14ms/step - loss: 0.0208 - val_loss: 0.0102\n",
            "Epoch 12/30\n",
            "1/4 [======>.......................] - ETA: 0s - loss: 0.0063\n",
            "Epoch 00012: val_loss did not improve from 0.00878\n",
            "4/4 [==============================] - 0s 13ms/step - loss: 0.0214 - val_loss: 0.0107\n",
            "Epoch 13/30\n",
            "1/4 [======>.......................] - ETA: 0s - loss: 0.0055\n",
            "Epoch 00013: val_loss did not improve from 0.00878\n",
            "4/4 [==============================] - 0s 13ms/step - loss: 0.0187 - val_loss: 0.0108\n",
            "Epoch 14/30\n",
            "1/4 [======>.......................] - ETA: 0s - loss: 0.0052\n",
            "Epoch 00014: val_loss did not improve from 0.00878\n",
            "4/4 [==============================] - 0s 13ms/step - loss: 0.0192 - val_loss: 0.0123\n",
            "Epoch 15/30\n",
            "1/4 [======>.......................] - ETA: 0s - loss: 0.0038\n",
            "Epoch 00015: val_loss did not improve from 0.00878\n",
            "4/4 [==============================] - 0s 14ms/step - loss: 0.0189 - val_loss: 0.0125\n",
            "Epoch 16/30\n",
            "1/4 [======>.......................] - ETA: 0s - loss: 0.0037\n",
            "Epoch 00016: val_loss did not improve from 0.00878\n",
            "4/4 [==============================] - 0s 15ms/step - loss: 0.0180 - val_loss: 0.0135\n",
            "Epoch 17/30\n",
            "1/4 [======>.......................] - ETA: 0s - loss: 0.0031\n",
            "Epoch 00017: val_loss did not improve from 0.00878\n",
            "4/4 [==============================] - 0s 14ms/step - loss: 0.0192 - val_loss: 0.0152\n",
            "Epoch 18/30\n",
            "1/4 [======>.......................] - ETA: 0s - loss: 0.0031\n",
            "Epoch 00018: val_loss did not improve from 0.00878\n",
            "4/4 [==============================] - 0s 14ms/step - loss: 0.0188 - val_loss: 0.0171\n",
            "Epoch 19/30\n",
            "1/4 [======>.......................] - ETA: 0s - loss: 0.0034\n",
            "Epoch 00019: ReduceLROnPlateau reducing learning rate to 0.004999999888241291.\n",
            "\n",
            "Epoch 00019: val_loss did not improve from 0.00878\n",
            "4/4 [==============================] - 0s 13ms/step - loss: 0.0178 - val_loss: 0.0198\n",
            "Epoch 20/30\n",
            "1/4 [======>.......................] - ETA: 0s - loss: 0.0035\n",
            "Epoch 00020: val_loss did not improve from 0.00878\n",
            "4/4 [==============================] - 0s 13ms/step - loss: 0.0175 - val_loss: 0.0224\n",
            "Epoch 00020: early stopping\n",
            "CPU times: user 7.11 s, sys: 161 ms, total: 7.27 s\n",
            "Wall time: 6.55 s\n"
          ],
          "name": "stdout"
        }
      ]
    },
    {
      "cell_type": "markdown",
      "metadata": {
        "id": "CFE7Nc7BBCRX"
      },
      "source": [
        "# Make future predictions"
      ]
    },
    {
      "cell_type": "code",
      "metadata": {
        "id": "pFMN9Qwy4ERO"
      },
      "source": [
        "# Generate list of sequence of days for predictions\n",
        "datelist_future = pd.date_range(datelist_train[-1], periods=n_future, freq='1d').tolist()\n",
        "\n",
        "'''\n",
        "Remeber, we have datelist_train from begining.\n",
        "'''\n",
        "\n",
        "# Convert Pandas Timestamp to Datetime object (for transformation) --> FUTURE\n",
        "datelist_future_ = []\n",
        "for this_timestamp in datelist_future:\n",
        "    datelist_future_.append(this_timestamp.date())"
      ],
      "execution_count": 243,
      "outputs": []
    },
    {
      "cell_type": "code",
      "metadata": {
        "id": "Ll9E453H5ANm"
      },
      "source": [
        "# Perform predictions\n",
        "predictions_future = model.predict(X_train[-n_future:])\n",
        "\n",
        "predictions_train = model.predict(X_train[n_past:])"
      ],
      "execution_count": 244,
      "outputs": []
    },
    {
      "cell_type": "code",
      "metadata": {
        "id": "RY59PD5t5863",
        "outputId": "7d86d846-2e3d-4813-ae83-74e37a99a458",
        "colab": {
          "base_uri": "https://localhost:8080/",
          "height": 136
        }
      },
      "source": [
        "# Inverse the predictions to original measurements\n",
        "\n",
        "# ---> Special function: convert <datetime.date> to <Timestamp>\n",
        "def datetime_to_timestamp(x):\n",
        "    '''\n",
        "        x : a given datetime value (datetime.date)\n",
        "    '''\n",
        "    return datetime.strptime(x.strftime('%Y%m%d'), '%Y%m%d')\n",
        "\n",
        "\n",
        "y_pred_future = sc_predict.inverse_transform(predictions_future)\n",
        "y_pred_train = sc_predict.inverse_transform(predictions_train)\n",
        "\n",
        "PREDICTIONS_FUTURE = pd.DataFrame(y_pred_future, columns=['btc_price']).set_index(pd.Series(datelist_future))\n",
        "PREDICTION_TRAIN = pd.DataFrame(y_pred_train, columns=['btc_price']).set_index(pd.Series(datelist_train[2 * n_past + n_future -1:]))\n",
        "\n",
        "# Convert <datetime.date> to <Timestamp> for PREDCITION_TRAIN\n",
        "PREDICTION_TRAIN.index = PREDICTION_TRAIN.index.to_series().apply(datetime_to_timestamp)\n",
        "\n",
        "PREDICTION_TRAIN.head(3)"
      ],
      "execution_count": 245,
      "outputs": [
        {
          "output_type": "execute_result",
          "data": {
            "text/html": [
              "<div>\n",
              "<style scoped>\n",
              "    .dataframe tbody tr th:only-of-type {\n",
              "        vertical-align: middle;\n",
              "    }\n",
              "\n",
              "    .dataframe tbody tr th {\n",
              "        vertical-align: top;\n",
              "    }\n",
              "\n",
              "    .dataframe thead th {\n",
              "        text-align: right;\n",
              "    }\n",
              "</style>\n",
              "<table border=\"1\" class=\"dataframe\">\n",
              "  <thead>\n",
              "    <tr style=\"text-align: right;\">\n",
              "      <th></th>\n",
              "      <th>btc_price</th>\n",
              "    </tr>\n",
              "  </thead>\n",
              "  <tbody>\n",
              "    <tr>\n",
              "      <th>2016-04-13</th>\n",
              "      <td>-1222.361328</td>\n",
              "    </tr>\n",
              "    <tr>\n",
              "      <th>2016-04-14</th>\n",
              "      <td>-1301.678467</td>\n",
              "    </tr>\n",
              "    <tr>\n",
              "      <th>2016-04-15</th>\n",
              "      <td>-1356.314819</td>\n",
              "    </tr>\n",
              "  </tbody>\n",
              "</table>\n",
              "</div>"
            ],
            "text/plain": [
              "              btc_price\n",
              "2016-04-13 -1222.361328\n",
              "2016-04-14 -1301.678467\n",
              "2016-04-15 -1356.314819"
            ]
          },
          "metadata": {
            "tags": []
          },
          "execution_count": 245
        }
      ]
    },
    {
      "cell_type": "markdown",
      "metadata": {
        "id": "CawYsXnyBHB-"
      },
      "source": [
        "# Visualize the Predictions"
      ]
    },
    {
      "cell_type": "code",
      "metadata": {
        "id": "EfvnBdxC58-I",
        "outputId": "c34e4be3-fdaf-4158-bf5c-479855216251",
        "colab": {
          "base_uri": "https://localhost:8080/",
          "height": 370
        }
      },
      "source": [
        "# Set plot size \n",
        "from pylab import rcParams\n",
        "rcParams['figure.figsize'] = 14, 5\n",
        "\n",
        "# Plot parameters\n",
        "START_DATE_FOR_PLOTTING = '2015-12-28'\n",
        "\n",
        "plt.plot(PREDICTIONS_FUTURE.index, PREDICTIONS_FUTURE['btc_price'], color='r', label='Predicted Bitcoin Price')\n",
        "plt.plot(PREDICTION_TRAIN.loc[START_DATE_FOR_PLOTTING:].index, PREDICTION_TRAIN.loc[START_DATE_FOR_PLOTTING:]['btc_price'], color='orange', label='Training predictions')\n",
        "plt.plot(df.loc[START_DATE_FOR_PLOTTING:].index, df.loc[START_DATE_FOR_PLOTTING:]['btc_price'], color='b', label='Actual Bitcoin Price')\n",
        "\n",
        "plt.axvline(x = min(PREDICTIONS_FUTURE.index), color='green', linewidth=2, linestyle='--')\n",
        "\n",
        "plt.grid(which='major', color='#cccccc', alpha=0.5)\n",
        "\n",
        "plt.legend(shadow=True)\n",
        "plt.title('Predcitions and Acutal Bitcoin Prices', family='Arial', fontsize=12)\n",
        "plt.xlabel('Timeline', family='Arial', fontsize=10)\n",
        "plt.ylabel('Stock Price Value', family='Arial', fontsize=10)\n",
        "plt.xticks(rotation=45, fontsize=8)\n",
        "plt.show()"
      ],
      "execution_count": 246,
      "outputs": [
        {
          "output_type": "display_data",
          "data": {
            "image/png": "[encoded data removed]",
            "text/plain": [
              "<Figure size 1008x360 with 1 Axes>"
            ]
          },
          "metadata": {
            "tags": [],
            "needs_background": "light"
          }
        }
      ]
    },
    {
      "cell_type": "code",
      "metadata": {
        "id": "slGuHjwQ-EYJ",
        "outputId": "30caf5ca-b65f-47db-f40a-e70a795fb61d",
        "colab": {
          "base_uri": "https://localhost:8080/",
          "height": 195
        }
      },
      "source": [
        "z = df.iloc[-60:,0]\n",
        "q = pd.concat([PREDICTION_TRAIN.loc['2020-01-31':],z],axis =1)\n",
        "q.columns =  ['prediction', 'btc_price']\n",
        "q.head()"
      ],
      "execution_count": 251,
      "outputs": [
        {
          "output_type": "execute_result",
          "data": {
            "text/html": [
              "<div>\n",
              "<style scoped>\n",
              "    .dataframe tbody tr th:only-of-type {\n",
              "        vertical-align: middle;\n",
              "    }\n",
              "\n",
              "    .dataframe tbody tr th {\n",
              "        vertical-align: top;\n",
              "    }\n",
              "\n",
              "    .dataframe thead th {\n",
              "        text-align: right;\n",
              "    }\n",
              "</style>\n",
              "<table border=\"1\" class=\"dataframe\">\n",
              "  <thead>\n",
              "    <tr style=\"text-align: right;\">\n",
              "      <th></th>\n",
              "      <th>prediction</th>\n",
              "      <th>btc_price</th>\n",
              "    </tr>\n",
              "  </thead>\n",
              "  <tbody>\n",
              "    <tr>\n",
              "      <th>2020-01-31</th>\n",
              "      <td>10960.052734</td>\n",
              "      <td>9334.98</td>\n",
              "    </tr>\n",
              "    <tr>\n",
              "      <th>2020-02-03</th>\n",
              "      <td>10951.107422</td>\n",
              "      <td>9280.49</td>\n",
              "    </tr>\n",
              "    <tr>\n",
              "      <th>2020-02-04</th>\n",
              "      <td>10968.074219</td>\n",
              "      <td>9164.33</td>\n",
              "    </tr>\n",
              "    <tr>\n",
              "      <th>2020-02-05</th>\n",
              "      <td>11082.427734</td>\n",
              "      <td>9613.82</td>\n",
              "    </tr>\n",
              "    <tr>\n",
              "      <th>2020-02-06</th>\n",
              "      <td>11143.142578</td>\n",
              "      <td>9763.01</td>\n",
              "    </tr>\n",
              "  </tbody>\n",
              "</table>\n",
              "</div>"
            ],
            "text/plain": [
              "              prediction  btc_price\n",
              "2020-01-31  10960.052734    9334.98\n",
              "2020-02-03  10951.107422    9280.49\n",
              "2020-02-04  10968.074219    9164.33\n",
              "2020-02-05  11082.427734    9613.82\n",
              "2020-02-06  11143.142578    9763.01"
            ]
          },
          "metadata": {
            "tags": []
          },
          "execution_count": 251
        }
      ]
    },
    {
      "cell_type": "markdown",
      "metadata": {
        "id": "C5LPZMt1FU7U"
      },
      "source": [
        "# Error "
      ]
    },
    {
      "cell_type": "code",
      "metadata": {
        "id": "3Qh_fEE_BOL1",
        "outputId": "5d5b066a-649f-40a4-ec1b-28954d64b747",
        "colab": {
          "base_uri": "https://localhost:8080/",
          "height": 84
        }
      },
      "source": [
        "#Forecast bias\n",
        "forecast_errors = [q['btc_price'][i]- q['prediction'][i] for i in range(len(q['btc_price']))]\n",
        "bias = sum(forecast_errors) * 1.0/len(q['btc_price'])\n",
        "print('Bias: %f' % bias)\n",
        "print('Mean absolute error:', mean_absolute_error(q['btc_price'].values, q['prediction'].values))\n",
        "print('Mean squared error:', mean_squared_error(q['btc_price'].values, q['prediction'].values))\n",
        "print('Root mean squared error:', math.sqrt(mean_squared_error(q['btc_price'].values, q['prediction'].values)))"
      ],
      "execution_count": 252,
      "outputs": [
        {
          "output_type": "stream",
          "text": [
            "Bias: -3632.123673\n",
            "Mean absolute error: 3632.123672526042\n",
            "Mean squared error: 16571703.982467346\n",
            "Root mean squared error: 4070.835784266831\n"
          ],
          "name": "stdout"
        }
      ]
    },
    {
      "cell_type": "code",
      "metadata": {
        "id": "WNL6rxDrGV1Z"
      },
      "source": [
        ""
      ],
      "execution_count": null,
      "outputs": []
    }
  ]
}