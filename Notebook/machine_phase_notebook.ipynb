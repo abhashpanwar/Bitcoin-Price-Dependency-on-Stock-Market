{
 "cells": [
  {
   "cell_type": "code",
   "execution_count": 10,
   "metadata": {},
   "outputs": [],
   "source": [
    "import pyforest\n",
    "from datetime import datetime"
   ]
  },
  {
   "cell_type": "code",
   "execution_count": 19,
   "metadata": {},
   "outputs": [
    {
     "data": {
      "application/javascript": [
       "\n",
       "        if (window._pyforest_update_imports_cell) { window._pyforest_update_imports_cell('import pandas as pd'); }\n",
       "    "
      ],
      "text/plain": [
       "<IPython.core.display.Javascript object>"
      ]
     },
     "metadata": {},
     "output_type": "display_data"
    },
    {
     "data": {
      "application/javascript": [
       "\n",
       "        if (window._pyforest_update_imports_cell) { window._pyforest_update_imports_cell('import pandas as pd'); }\n",
       "    "
      ],
      "text/plain": [
       "<IPython.core.display.Javascript object>"
      ]
     },
     "metadata": {},
     "output_type": "display_data"
    },
    {
     "data": {
      "text/html": [
       "<div>\n",
       "<style scoped>\n",
       "    .dataframe tbody tr th:only-of-type {\n",
       "        vertical-align: middle;\n",
       "    }\n",
       "\n",
       "    .dataframe tbody tr th {\n",
       "        vertical-align: top;\n",
       "    }\n",
       "\n",
       "    .dataframe thead th {\n",
       "        text-align: right;\n",
       "    }\n",
       "</style>\n",
       "<table border=\"1\" class=\"dataframe\">\n",
       "  <thead>\n",
       "    <tr style=\"text-align: right;\">\n",
       "      <th></th>\n",
       "      <th>date</th>\n",
       "      <th>btc_price</th>\n",
       "      <th>gold_price</th>\n",
       "      <th>oil_wti_price</th>\n",
       "      <th>sp500_close</th>\n",
       "      <th>btc_num_trans</th>\n",
       "      <th>btc_google_search</th>\n",
       "      <th>btc_dr</th>\n",
       "      <th>gold_dr</th>\n",
       "      <th>oil_dr</th>\n",
       "      <th>sp500_dr</th>\n",
       "      <th>BVOL</th>\n",
       "      <th>GVOL</th>\n",
       "      <th>OVOL</th>\n",
       "      <th>VIX</th>\n",
       "    </tr>\n",
       "  </thead>\n",
       "  <tbody>\n",
       "    <tr>\n",
       "      <th>0</th>\n",
       "      <td>2015-01-15</td>\n",
       "      <td>211.91</td>\n",
       "      <td>1352.8</td>\n",
       "      <td>46.37</td>\n",
       "      <td>1992.67</td>\n",
       "      <td>102309.0</td>\n",
       "      <td>3</td>\n",
       "      <td>0.568670</td>\n",
       "      <td>0.021141</td>\n",
       "      <td>-0.044705</td>\n",
       "      <td>-0.009291</td>\n",
       "      <td>0.853974</td>\n",
       "      <td>0.344132</td>\n",
       "      <td>0.344950</td>\n",
       "      <td>22.39</td>\n",
       "    </tr>\n",
       "    <tr>\n",
       "      <th>1</th>\n",
       "      <td>2015-01-16</td>\n",
       "      <td>199.46</td>\n",
       "      <td>1364.9</td>\n",
       "      <td>48.49</td>\n",
       "      <td>2019.42</td>\n",
       "      <td>104699.0</td>\n",
       "      <td>3</td>\n",
       "      <td>-0.060548</td>\n",
       "      <td>0.008905</td>\n",
       "      <td>0.044705</td>\n",
       "      <td>0.013335</td>\n",
       "      <td>0.857286</td>\n",
       "      <td>0.348453</td>\n",
       "      <td>0.346061</td>\n",
       "      <td>20.95</td>\n",
       "    </tr>\n",
       "    <tr>\n",
       "      <th>2</th>\n",
       "      <td>2015-01-20</td>\n",
       "      <td>208.00</td>\n",
       "      <td>1377.4</td>\n",
       "      <td>46.79</td>\n",
       "      <td>2022.55</td>\n",
       "      <td>98485.0</td>\n",
       "      <td>3</td>\n",
       "      <td>0.041924</td>\n",
       "      <td>0.009116</td>\n",
       "      <td>-0.035688</td>\n",
       "      <td>0.001549</td>\n",
       "      <td>0.857176</td>\n",
       "      <td>0.348518</td>\n",
       "      <td>0.346647</td>\n",
       "      <td>19.89</td>\n",
       "    </tr>\n",
       "    <tr>\n",
       "      <th>3</th>\n",
       "      <td>2015-01-21</td>\n",
       "      <td>225.51</td>\n",
       "      <td>1378.4</td>\n",
       "      <td>47.85</td>\n",
       "      <td>2032.12</td>\n",
       "      <td>98485.0</td>\n",
       "      <td>3</td>\n",
       "      <td>0.080826</td>\n",
       "      <td>0.000726</td>\n",
       "      <td>0.022402</td>\n",
       "      <td>0.004720</td>\n",
       "      <td>0.893605</td>\n",
       "      <td>0.350149</td>\n",
       "      <td>0.347336</td>\n",
       "      <td>18.85</td>\n",
       "    </tr>\n",
       "    <tr>\n",
       "      <th>4</th>\n",
       "      <td>2015-01-22</td>\n",
       "      <td>226.32</td>\n",
       "      <td>1390.2</td>\n",
       "      <td>45.93</td>\n",
       "      <td>2063.15</td>\n",
       "      <td>93698.0</td>\n",
       "      <td>3</td>\n",
       "      <td>0.003585</td>\n",
       "      <td>0.008524</td>\n",
       "      <td>-0.040953</td>\n",
       "      <td>0.015154</td>\n",
       "      <td>0.904949</td>\n",
       "      <td>0.351242</td>\n",
       "      <td>0.343230</td>\n",
       "      <td>16.40</td>\n",
       "    </tr>\n",
       "  </tbody>\n",
       "</table>\n",
       "</div>"
      ],
      "text/plain": [
       "        date  btc_price  gold_price  oil_wti_price  sp500_close  ...  sp500_dr      BVOL      GVOL      OVOL    VIX\n",
       "0 2015-01-15     211.91      1352.8          46.37      1992.67  ... -0.009291  0.853974  0.344132  0.344950  22.39\n",
       "1 2015-01-16     199.46      1364.9          48.49      2019.42  ...  0.013335  0.857286  0.348453  0.346061  20.95\n",
       "2 2015-01-20     208.00      1377.4          46.79      2022.55  ...  0.001549  0.857176  0.348518  0.346647  19.89\n",
       "3 2015-01-21     225.51      1378.4          47.85      2032.12  ...  0.004720  0.893605  0.350149  0.347336  18.85\n",
       "4 2015-01-22     226.32      1390.2          45.93      2063.15  ...  0.015154  0.904949  0.351242  0.343230  16.40\n",
       "\n",
       "[5 rows x 15 columns]"
      ]
     },
     "execution_count": 19,
     "metadata": {},
     "output_type": "execute_result"
    }
   ],
   "source": [
    "df = pd.read_csv('../Data/dataset_final.csv')\n",
    "df.date = pd.to_datetime(df.date)\n",
    "#df.set_index(pd.to_datetime(df.date),inplace=True)\n",
    "df.drop(['Unnamed: 0'],axis=1,inplace=True)\n",
    "df.head()"
   ]
  },
  {
   "cell_type": "code",
   "execution_count": 24,
   "metadata": {},
   "outputs": [],
   "source": [
    "\n",
    "# load data\n",
    "def parse(x):\n",
    "    return datetime.strptime(str(x)[:10], '%Y-%m-%d')\n",
    "d = df.date.apply(parse)"
   ]
  },
  {
   "cell_type": "code",
   "execution_count": 25,
   "metadata": {},
   "outputs": [
    {
     "data": {
      "text/plain": [
       "0      2015-01-15\n",
       "1      2015-01-16\n",
       "2      2015-01-20\n",
       "3      2015-01-21\n",
       "4      2015-01-22\n",
       "          ...    \n",
       "1314   2020-04-17\n",
       "1315   2020-04-22\n",
       "1316   2020-04-23\n",
       "1317   2020-04-24\n",
       "1318   2020-04-27\n",
       "Name: date, Length: 1319, dtype: datetime64[ns]"
      ]
     },
     "execution_count": 25,
     "metadata": {},
     "output_type": "execute_result"
    }
   ],
   "source": [
    "d"
   ]
  },
  {
   "cell_type": "code",
   "execution_count": null,
   "metadata": {},
   "outputs": [],
   "source": []
  }
 ],
 "metadata": {
  "kernelspec": {
   "display_name": "Python 3",
   "language": "python",
   "name": "python3"
  },
  "language_info": {
   "codemirror_mode": {
    "name": "ipython",
    "version": 3
   },
   "file_extension": ".py",
   "mimetype": "text/x-python",
   "name": "python",
   "nbconvert_exporter": "python",
   "pygments_lexer": "ipython3",
   "version": "3.7.6"
  }
 },
 "nbformat": 4,
 "nbformat_minor": 4
}
