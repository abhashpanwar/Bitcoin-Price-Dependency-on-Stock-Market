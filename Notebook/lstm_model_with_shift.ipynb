{
  "nbformat": 4,
  "nbformat_minor": 0,
  "metadata": {
    "colab": {
      "name": "lstm_model_with_shift.ipynb",
      "provenance": []
    },
    "kernelspec": {
      "name": "python3",
      "display_name": "Python 3"
    }
  },
  "cells": [
    {
      "cell_type": "code",
      "metadata": {
        "id": "3llevZ53LU0G"
      },
      "source": [
        "import pandas as pd\n",
        "import numpy as np\n",
        "import matplotlib.pyplot as plt\n",
        "from sklearn import preprocessing\n",
        "from sklearn import metrics\n",
        "from tensorflow import keras\n",
        "from keras.models import Sequential\n",
        "from keras.layers import Dense,LSTM,Bidirectional\n",
        "from keras.optimizers import Adam"
      ],
      "execution_count": 1,
      "outputs": []
    },
    {
      "cell_type": "code",
      "metadata": {
        "id": "hEREXzVnLe6v",
        "outputId": "78f91de9-7e9a-4af8-b6a3-26ff5797ba13",
        "colab": {
          "base_uri": "https://localhost:8080/",
          "height": 225
        }
      },
      "source": [
        "df = pd.read_csv('/content/drive/My Drive/Sharer.pw/dataset_final.csv')\n",
        "df.set_index(pd.to_datetime(df.date),inplace=True)\n",
        "df.drop(['Unnamed: 0','date'],axis=1,inplace=True)\n",
        "df.head()\n",
        "\n",
        "#split the into train and test dataset\n",
        "test_data = pd.concat([df['2020-02'],df['2020-03'],df['2020-04']],axis=0)\n",
        "train_data = df[:-len(test_data)]\n",
        "\n",
        "train_data.head()"
      ],
      "execution_count": 2,
      "outputs": [
        {
          "output_type": "execute_result",
          "data": {
            "text/html": [
              "<div>\n",
              "<style scoped>\n",
              "    .dataframe tbody tr th:only-of-type {\n",
              "        vertical-align: middle;\n",
              "    }\n",
              "\n",
              "    .dataframe tbody tr th {\n",
              "        vertical-align: top;\n",
              "    }\n",
              "\n",
              "    .dataframe thead th {\n",
              "        text-align: right;\n",
              "    }\n",
              "</style>\n",
              "<table border=\"1\" class=\"dataframe\">\n",
              "  <thead>\n",
              "    <tr style=\"text-align: right;\">\n",
              "      <th></th>\n",
              "      <th>btc_price</th>\n",
              "      <th>gold_price</th>\n",
              "      <th>oil_wti_price</th>\n",
              "      <th>sp500_close</th>\n",
              "      <th>btc_num_trans</th>\n",
              "      <th>btc_google_search</th>\n",
              "      <th>btc_dr</th>\n",
              "      <th>gold_dr</th>\n",
              "      <th>oil_dr</th>\n",
              "      <th>sp500_dr</th>\n",
              "      <th>BVOL</th>\n",
              "      <th>GVOL</th>\n",
              "      <th>OVOL</th>\n",
              "      <th>VIX</th>\n",
              "    </tr>\n",
              "    <tr>\n",
              "      <th>date</th>\n",
              "      <th></th>\n",
              "      <th></th>\n",
              "      <th></th>\n",
              "      <th></th>\n",
              "      <th></th>\n",
              "      <th></th>\n",
              "      <th></th>\n",
              "      <th></th>\n",
              "      <th></th>\n",
              "      <th></th>\n",
              "      <th></th>\n",
              "      <th></th>\n",
              "      <th></th>\n",
              "      <th></th>\n",
              "    </tr>\n",
              "  </thead>\n",
              "  <tbody>\n",
              "    <tr>\n",
              "      <th>2015-01-15</th>\n",
              "      <td>211.91</td>\n",
              "      <td>1352.8</td>\n",
              "      <td>46.37</td>\n",
              "      <td>1992.67</td>\n",
              "      <td>102309.0</td>\n",
              "      <td>3</td>\n",
              "      <td>0.568670</td>\n",
              "      <td>0.021141</td>\n",
              "      <td>-0.044705</td>\n",
              "      <td>-0.009291</td>\n",
              "      <td>0.853974</td>\n",
              "      <td>0.344132</td>\n",
              "      <td>0.344950</td>\n",
              "      <td>22.39</td>\n",
              "    </tr>\n",
              "    <tr>\n",
              "      <th>2015-01-16</th>\n",
              "      <td>199.46</td>\n",
              "      <td>1364.9</td>\n",
              "      <td>48.49</td>\n",
              "      <td>2019.42</td>\n",
              "      <td>104699.0</td>\n",
              "      <td>3</td>\n",
              "      <td>-0.060548</td>\n",
              "      <td>0.008905</td>\n",
              "      <td>0.044705</td>\n",
              "      <td>0.013335</td>\n",
              "      <td>0.857286</td>\n",
              "      <td>0.348453</td>\n",
              "      <td>0.346061</td>\n",
              "      <td>20.95</td>\n",
              "    </tr>\n",
              "    <tr>\n",
              "      <th>2015-01-20</th>\n",
              "      <td>208.00</td>\n",
              "      <td>1377.4</td>\n",
              "      <td>46.79</td>\n",
              "      <td>2022.55</td>\n",
              "      <td>98485.0</td>\n",
              "      <td>3</td>\n",
              "      <td>0.041924</td>\n",
              "      <td>0.009116</td>\n",
              "      <td>-0.035688</td>\n",
              "      <td>0.001549</td>\n",
              "      <td>0.857176</td>\n",
              "      <td>0.348518</td>\n",
              "      <td>0.346647</td>\n",
              "      <td>19.89</td>\n",
              "    </tr>\n",
              "    <tr>\n",
              "      <th>2015-01-21</th>\n",
              "      <td>225.51</td>\n",
              "      <td>1378.4</td>\n",
              "      <td>47.85</td>\n",
              "      <td>2032.12</td>\n",
              "      <td>98485.0</td>\n",
              "      <td>3</td>\n",
              "      <td>0.080826</td>\n",
              "      <td>0.000726</td>\n",
              "      <td>0.022402</td>\n",
              "      <td>0.004720</td>\n",
              "      <td>0.893605</td>\n",
              "      <td>0.350149</td>\n",
              "      <td>0.347336</td>\n",
              "      <td>18.85</td>\n",
              "    </tr>\n",
              "    <tr>\n",
              "      <th>2015-01-22</th>\n",
              "      <td>226.32</td>\n",
              "      <td>1390.2</td>\n",
              "      <td>45.93</td>\n",
              "      <td>2063.15</td>\n",
              "      <td>93698.0</td>\n",
              "      <td>3</td>\n",
              "      <td>0.003585</td>\n",
              "      <td>0.008524</td>\n",
              "      <td>-0.040953</td>\n",
              "      <td>0.015154</td>\n",
              "      <td>0.904949</td>\n",
              "      <td>0.351242</td>\n",
              "      <td>0.343230</td>\n",
              "      <td>16.40</td>\n",
              "    </tr>\n",
              "  </tbody>\n",
              "</table>\n",
              "</div>"
            ],
            "text/plain": [
              "            btc_price  gold_price  oil_wti_price  ...      GVOL      OVOL    VIX\n",
              "date                                              ...                           \n",
              "2015-01-15     211.91      1352.8          46.37  ...  0.344132  0.344950  22.39\n",
              "2015-01-16     199.46      1364.9          48.49  ...  0.348453  0.346061  20.95\n",
              "2015-01-20     208.00      1377.4          46.79  ...  0.348518  0.346647  19.89\n",
              "2015-01-21     225.51      1378.4          47.85  ...  0.350149  0.347336  18.85\n",
              "2015-01-22     226.32      1390.2          45.93  ...  0.351242  0.343230  16.40\n",
              "\n",
              "[5 rows x 14 columns]"
            ]
          },
          "metadata": {
            "tags": []
          },
          "execution_count": 2
        }
      ]
    },
    {
      "cell_type": "code",
      "metadata": {
        "id": "3wVAvl8xLhce"
      },
      "source": [
        "train_data = train_data[['btc_dr','gold_dr','oil_dr','sp500_dr']]"
      ],
      "execution_count": 3,
      "outputs": []
    },
    {
      "cell_type": "code",
      "metadata": {
        "id": "VnugOhWbLqjg"
      },
      "source": [
        "def time_lag(df,col,lag):\n",
        "  if lag == 1:\n",
        "    shifted_series = df[col].shift(1)\n",
        "    df['t-1']  = shifted_series\n",
        "    df.dropna(inplace=True)\n",
        "    return series\n",
        "  else :\n",
        "    for i in range(1,lag+1):\n",
        "      print(df.shape)\n",
        "      lag_val = 't-'+str(i)\n",
        "      shifted_series = df.iloc[:,-1:].shift(1)\n",
        "      df[lag_val] = shifted_series\n",
        "      df.dropna(inplace=True)\n",
        "    return df"
      ],
      "execution_count": 4,
      "outputs": []
    },
    {
      "cell_type": "code",
      "metadata": {
        "id": "yBz2Zk4DMBmy",
        "outputId": "08db492e-6434-454d-8247-190ce6e6eabc",
        "colab": {
          "base_uri": "https://localhost:8080/",
          "height": 262
        }
      },
      "source": [
        "btc_dr_lagged = time_lag(pd.DataFrame(train_data.btc_dr),'btc_dr',4)\n",
        "gold_dr_lagged = pd.DataFrame(train_data.gold_dr.shift(4).dropna())\n",
        "data = pd.concat([btc_dr_lagged.reset_index(),gold_dr_lagged.reset_index()],axis=1)\n",
        "data.drop('date',axis=1,inplace=True)\n",
        "data.head()"
      ],
      "execution_count": 5,
      "outputs": [
        {
          "output_type": "stream",
          "text": [
            "(1262, 1)\n",
            "(1261, 2)\n",
            "(1260, 3)\n",
            "(1259, 4)\n"
          ],
          "name": "stdout"
        },
        {
          "output_type": "execute_result",
          "data": {
            "text/html": [
              "<div>\n",
              "<style scoped>\n",
              "    .dataframe tbody tr th:only-of-type {\n",
              "        vertical-align: middle;\n",
              "    }\n",
              "\n",
              "    .dataframe tbody tr th {\n",
              "        vertical-align: top;\n",
              "    }\n",
              "\n",
              "    .dataframe thead th {\n",
              "        text-align: right;\n",
              "    }\n",
              "</style>\n",
              "<table border=\"1\" class=\"dataframe\">\n",
              "  <thead>\n",
              "    <tr style=\"text-align: right;\">\n",
              "      <th></th>\n",
              "      <th>btc_dr</th>\n",
              "      <th>t-1</th>\n",
              "      <th>t-2</th>\n",
              "      <th>t-3</th>\n",
              "      <th>t-4</th>\n",
              "      <th>gold_dr</th>\n",
              "    </tr>\n",
              "  </thead>\n",
              "  <tbody>\n",
              "    <tr>\n",
              "      <th>0</th>\n",
              "      <td>0.003585</td>\n",
              "      <td>0.080826</td>\n",
              "      <td>0.041924</td>\n",
              "      <td>-0.060548</td>\n",
              "      <td>0.568670</td>\n",
              "      <td>0.021141</td>\n",
              "    </tr>\n",
              "    <tr>\n",
              "      <th>1</th>\n",
              "      <td>0.037636</td>\n",
              "      <td>0.003585</td>\n",
              "      <td>0.080826</td>\n",
              "      <td>0.041924</td>\n",
              "      <td>-0.060548</td>\n",
              "      <td>0.008905</td>\n",
              "    </tr>\n",
              "    <tr>\n",
              "      <th>2</th>\n",
              "      <td>0.138836</td>\n",
              "      <td>0.037636</td>\n",
              "      <td>0.003585</td>\n",
              "      <td>0.080826</td>\n",
              "      <td>0.041924</td>\n",
              "      <td>0.009116</td>\n",
              "    </tr>\n",
              "    <tr>\n",
              "      <th>3</th>\n",
              "      <td>-0.027447</td>\n",
              "      <td>0.138836</td>\n",
              "      <td>0.037636</td>\n",
              "      <td>0.003585</td>\n",
              "      <td>0.080826</td>\n",
              "      <td>0.000726</td>\n",
              "    </tr>\n",
              "    <tr>\n",
              "      <th>4</th>\n",
              "      <td>-0.106550</td>\n",
              "      <td>-0.027447</td>\n",
              "      <td>0.138836</td>\n",
              "      <td>0.037636</td>\n",
              "      <td>0.003585</td>\n",
              "      <td>0.008524</td>\n",
              "    </tr>\n",
              "  </tbody>\n",
              "</table>\n",
              "</div>"
            ],
            "text/plain": [
              "     btc_dr       t-1       t-2       t-3       t-4   gold_dr\n",
              "0  0.003585  0.080826  0.041924 -0.060548  0.568670  0.021141\n",
              "1  0.037636  0.003585  0.080826  0.041924 -0.060548  0.008905\n",
              "2  0.138836  0.037636  0.003585  0.080826  0.041924  0.009116\n",
              "3 -0.027447  0.138836  0.037636  0.003585  0.080826  0.000726\n",
              "4 -0.106550 -0.027447  0.138836  0.037636  0.003585  0.008524"
            ]
          },
          "metadata": {
            "tags": []
          },
          "execution_count": 5
        }
      ]
    },
    {
      "cell_type": "code",
      "metadata": {
        "id": "tP9qp_AJWcOI"
      },
      "source": [
        "X = data.values"
      ],
      "execution_count": 6,
      "outputs": []
    },
    {
      "cell_type": "code",
      "metadata": {
        "id": "XJ2fWHXYMH6l",
        "outputId": "aa7f7fcf-e95c-4f9b-9b01-83cddccc0651",
        "colab": {
          "base_uri": "https://localhost:8080/",
          "height": 50
        }
      },
      "source": [
        "X_train = []\n",
        "y_train = []\n",
        "\n",
        "# Number of days we want top predict into the future\n",
        "n_future = len(test_data)   \n",
        "# Number of past days we want to use to predict the future\n",
        "timesteps = 5    \n",
        "for i in range(timesteps, len(X) - n_future +1):\n",
        "    X_train.append(X[i - timesteps:i, 0:X.shape[1] - 1])\n",
        "    y_train.append(X[i + n_future - 1:i + n_future, 0])\n",
        "\n",
        "X_train, y_train = np.array(X_train), np.array(y_train)\n",
        "\n",
        "print(f'X_train shape = {X_train.shape}.')\n",
        "print(f'y_train shape = {y_train.shape}.')"
      ],
      "execution_count": 7,
      "outputs": [
        {
          "output_type": "stream",
          "text": [
            "X_train shape = (1197, 5, 5).\n",
            "y_train shape = (1197, 1).\n"
          ],
          "name": "stdout"
        }
      ]
    },
    {
      "cell_type": "code",
      "metadata": {
        "id": "K7RoCBJhR5m_",
        "outputId": "6acf115c-bf26-480c-ba58-2524eeb61723",
        "colab": {
          "base_uri": "https://localhost:8080/",
          "height": 218
        }
      },
      "source": [
        "#defining LSTM model\n",
        "def lstm_model():\n",
        "  model = Sequential()\n",
        "  model.add(LSTM(32,input_shape=(X_train.shape[1],X_train.shape[2])))\n",
        "  model.add(Dense(1))\n",
        "  adam = Adam(learning_rate=0.0001, beta_1=100, beta_2=100, epsilon=1e-07)\n",
        "  model.compile(optimizer='adam',loss='mae')\n",
        "  return model\n",
        "model = lstm_model()\n",
        "model.summary()"
      ],
      "execution_count": 31,
      "outputs": [
        {
          "output_type": "stream",
          "text": [
            "Model: \"sequential_5\"\n",
            "_________________________________________________________________\n",
            "Layer (type)                 Output Shape              Param #   \n",
            "=================================================================\n",
            "lstm_5 (LSTM)                (None, 32)                4864      \n",
            "_________________________________________________________________\n",
            "dense_5 (Dense)              (None, 1)                 33        \n",
            "=================================================================\n",
            "Total params: 4,897\n",
            "Trainable params: 4,897\n",
            "Non-trainable params: 0\n",
            "_________________________________________________________________\n"
          ],
          "name": "stdout"
        }
      ]
    },
    {
      "cell_type": "code",
      "metadata": {
        "id": "f5tPmsCLUhOX",
        "outputId": "ac400958-71a0-42c4-f184-90426925fad7",
        "colab": {
          "base_uri": "https://localhost:8080/",
          "height": 1000
        }
      },
      "source": [
        "model.fit(X_train,y_train,epochs=30,shuffle=False)"
      ],
      "execution_count": 32,
      "outputs": [
        {
          "output_type": "stream",
          "text": [
            "Epoch 1/30\n",
            "38/38 [==============================] - 0s 4ms/step - loss: 0.0304\n",
            "Epoch 2/30\n",
            "38/38 [==============================] - 0s 3ms/step - loss: 0.0299\n",
            "Epoch 3/30\n",
            "38/38 [==============================] - 0s 3ms/step - loss: 0.0296\n",
            "Epoch 4/30\n",
            "38/38 [==============================] - 0s 3ms/step - loss: 0.0296\n",
            "Epoch 5/30\n",
            "38/38 [==============================] - 0s 3ms/step - loss: 0.0296\n",
            "Epoch 6/30\n",
            "38/38 [==============================] - 0s 3ms/step - loss: 0.0297\n",
            "Epoch 7/30\n",
            "38/38 [==============================] - 0s 3ms/step - loss: 0.0300\n",
            "Epoch 8/30\n",
            "38/38 [==============================] - 0s 4ms/step - loss: 0.0300\n",
            "Epoch 9/30\n",
            "38/38 [==============================] - 0s 3ms/step - loss: 0.0300\n",
            "Epoch 10/30\n",
            "38/38 [==============================] - 0s 3ms/step - loss: 0.0300\n",
            "Epoch 11/30\n",
            "38/38 [==============================] - 0s 3ms/step - loss: 0.0300\n",
            "Epoch 12/30\n",
            "38/38 [==============================] - 0s 3ms/step - loss: 0.0301\n",
            "Epoch 13/30\n",
            "38/38 [==============================] - 0s 3ms/step - loss: 0.0300\n",
            "Epoch 14/30\n",
            "38/38 [==============================] - 0s 3ms/step - loss: 0.0299\n",
            "Epoch 15/30\n",
            "38/38 [==============================] - 0s 4ms/step - loss: 0.0299\n",
            "Epoch 16/30\n",
            "38/38 [==============================] - 0s 3ms/step - loss: 0.0299\n",
            "Epoch 17/30\n",
            "38/38 [==============================] - 0s 3ms/step - loss: 0.0298\n",
            "Epoch 18/30\n",
            "38/38 [==============================] - 0s 3ms/step - loss: 0.0298\n",
            "Epoch 19/30\n",
            "38/38 [==============================] - 0s 4ms/step - loss: 0.0298\n",
            "Epoch 20/30\n",
            "38/38 [==============================] - 0s 4ms/step - loss: 0.0298\n",
            "Epoch 21/30\n",
            "38/38 [==============================] - 0s 4ms/step - loss: 0.0298\n",
            "Epoch 22/30\n",
            "38/38 [==============================] - 0s 4ms/step - loss: 0.0298\n",
            "Epoch 23/30\n",
            "38/38 [==============================] - 0s 4ms/step - loss: 0.0298\n",
            "Epoch 24/30\n",
            "38/38 [==============================] - 0s 4ms/step - loss: 0.0298\n",
            "Epoch 25/30\n",
            "38/38 [==============================] - 0s 3ms/step - loss: 0.0297\n",
            "Epoch 26/30\n",
            "38/38 [==============================] - 0s 4ms/step - loss: 0.0298\n",
            "Epoch 27/30\n",
            "38/38 [==============================] - 0s 4ms/step - loss: 0.0298\n",
            "Epoch 28/30\n",
            "38/38 [==============================] - 0s 4ms/step - loss: 0.0297\n",
            "Epoch 29/30\n",
            "38/38 [==============================] - 0s 4ms/step - loss: 0.0297\n",
            "Epoch 30/30\n",
            "38/38 [==============================] - 0s 4ms/step - loss: 0.0297\n"
          ],
          "name": "stdout"
        },
        {
          "output_type": "execute_result",
          "data": {
            "text/plain": [
              "<tensorflow.python.keras.callbacks.History at 0x7f125f870f98>"
            ]
          },
          "metadata": {
            "tags": []
          },
          "execution_count": 32
        }
      ]
    },
    {
      "cell_type": "code",
      "metadata": {
        "id": "55UH5hp_UlBU",
        "outputId": "53a48e87-d93f-4917-9fac-d16b9085de3d",
        "colab": {
          "base_uri": "https://localhost:8080/",
          "height": 54
        }
      },
      "source": [
        "#forecast bitcoin daily returns\n",
        "pred = model.predict(X_train[-n_future:])"
      ],
      "execution_count": 33,
      "outputs": [
        {
          "output_type": "stream",
          "text": [
            "WARNING:tensorflow:6 out of the last 11 calls to <function Model.make_predict_function.<locals>.predict_function at 0x7f125f558510> triggered tf.function retracing. Tracing is expensive and the excessive number of tracings could be due to (1) creating @tf.function repeatedly in a loop, (2) passing tensors with different shapes, (3) passing Python objects instead of tensors. For (1), please define your @tf.function outside of the loop. For (2), @tf.function has experimental_relax_shapes=True option that relaxes argument shapes that can avoid unnecessary retracing. For (3), please refer to https://www.tensorflow.org/tutorials/customization/performance#python_or_tensor_args and https://www.tensorflow.org/api_docs/python/tf/function for  more details.\n"
          ],
          "name": "stdout"
        }
      ]
    },
    {
      "cell_type": "code",
      "metadata": {
        "id": "nnDkDnPqUuio",
        "outputId": "4144b67f-c20a-4ab6-eb59-5024ca322c86",
        "colab": {
          "base_uri": "https://localhost:8080/",
          "height": 282
        }
      },
      "source": [
        "plt.figure()\n",
        "plt.plot(test_data.btc_dr.values)\n",
        "plt.plot(pred*10)"
      ],
      "execution_count": 34,
      "outputs": [
        {
          "output_type": "execute_result",
          "data": {
            "text/plain": [
              "[<matplotlib.lines.Line2D at 0x7f125ec72ba8>]"
            ]
          },
          "metadata": {
            "tags": []
          },
          "execution_count": 34
        },
        {
          "output_type": "display_data",
          "data": {
            "image/png": "[encoded data removed]",
            "text/plain": [
              "<Figure size 432x288 with 1 Axes>"
            ]
          },
          "metadata": {
            "tags": [],
            "needs_background": "light"
          }
        }
      ]
    },
    {
      "cell_type": "code",
      "metadata": {
        "id": "hI_GoTqMUwQK"
      },
      "source": [
        ""
      ],
      "execution_count": 11,
      "outputs": []
    }
  ]
}