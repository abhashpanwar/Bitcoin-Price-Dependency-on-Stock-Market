{
  "nbformat": 4,
  "nbformat_minor": 0,
  "metadata": {
    "colab": {
      "name": "ts_project.ipynb",
      "provenance": []
    },
    "kernelspec": {
      "name": "python3",
      "display_name": "Python 3"
    }
  },
  "cells": [
    {
      "cell_type": "code",
      "metadata": {
        "id": "VtnvjOWANUT-"
      },
      "source": [
        "import pandas as pd\n",
        "import numpy as np\n",
        "import matplotlib.pyplot as plt\n",
        "from sklearn import preprocessing\n",
        "from sklearn import metrics\n",
        "from tensorflow import keras\n",
        "from keras.models import Sequential\n",
        "from keras.layers import Dense,LSTM\n",
        "from keras.preprocessing.sequence import TimeseriesGenerator"
      ],
      "execution_count": 1,
      "outputs": []
    },
    {
      "cell_type": "code",
      "metadata": {
        "id": "frrE1Nh-Nyqt",
        "outputId": "a98a2afa-5e73-4019-b526-f6d11132183c",
        "colab": {
          "base_uri": "https://localhost:8080/",
          "height": 431
        }
      },
      "source": [
        "df = pd.read_csv('/content/drive/My Drive/Sharer.pw/dataset_final.csv')\n",
        "df.set_index(pd.to_datetime(df.date),inplace=True)\n",
        "df.drop(['Unnamed: 0','date'],axis=1,inplace=True)\n",
        "df.head()\n",
        "test_data = pd.concat([df['2020-02'],df['2020-03'],df['2020-04']],axis=0)\n",
        "train_data = df[:-len(test_data)]\n",
        "\n",
        "train_data"
      ],
      "execution_count": 2,
      "outputs": [
        {
          "output_type": "execute_result",
          "data": {
            "text/html": [
              "<div>\n",
              "<style scoped>\n",
              "    .dataframe tbody tr th:only-of-type {\n",
              "        vertical-align: middle;\n",
              "    }\n",
              "\n",
              "    .dataframe tbody tr th {\n",
              "        vertical-align: top;\n",
              "    }\n",
              "\n",
              "    .dataframe thead th {\n",
              "        text-align: right;\n",
              "    }\n",
              "</style>\n",
              "<table border=\"1\" class=\"dataframe\">\n",
              "  <thead>\n",
              "    <tr style=\"text-align: right;\">\n",
              "      <th></th>\n",
              "      <th>btc_price</th>\n",
              "      <th>gold_price</th>\n",
              "      <th>oil_wti_price</th>\n",
              "      <th>sp500_close</th>\n",
              "      <th>btc_num_trans</th>\n",
              "      <th>btc_google_search</th>\n",
              "      <th>btc_dr</th>\n",
              "      <th>gold_dr</th>\n",
              "      <th>oil_dr</th>\n",
              "      <th>sp500_dr</th>\n",
              "      <th>BVOL</th>\n",
              "      <th>GVOL</th>\n",
              "      <th>OVOL</th>\n",
              "      <th>VIX</th>\n",
              "    </tr>\n",
              "    <tr>\n",
              "      <th>date</th>\n",
              "      <th></th>\n",
              "      <th></th>\n",
              "      <th></th>\n",
              "      <th></th>\n",
              "      <th></th>\n",
              "      <th></th>\n",
              "      <th></th>\n",
              "      <th></th>\n",
              "      <th></th>\n",
              "      <th></th>\n",
              "      <th></th>\n",
              "      <th></th>\n",
              "      <th></th>\n",
              "      <th></th>\n",
              "    </tr>\n",
              "  </thead>\n",
              "  <tbody>\n",
              "    <tr>\n",
              "      <th>2015-01-15</th>\n",
              "      <td>211.91</td>\n",
              "      <td>1352.8</td>\n",
              "      <td>46.37</td>\n",
              "      <td>1992.67</td>\n",
              "      <td>102309.0</td>\n",
              "      <td>3</td>\n",
              "      <td>0.568670</td>\n",
              "      <td>0.021141</td>\n",
              "      <td>-0.044705</td>\n",
              "      <td>-0.009291</td>\n",
              "      <td>0.853974</td>\n",
              "      <td>0.344132</td>\n",
              "      <td>0.344950</td>\n",
              "      <td>22.39</td>\n",
              "    </tr>\n",
              "    <tr>\n",
              "      <th>2015-01-16</th>\n",
              "      <td>199.46</td>\n",
              "      <td>1364.9</td>\n",
              "      <td>48.49</td>\n",
              "      <td>2019.42</td>\n",
              "      <td>104699.0</td>\n",
              "      <td>3</td>\n",
              "      <td>-0.060548</td>\n",
              "      <td>0.008905</td>\n",
              "      <td>0.044705</td>\n",
              "      <td>0.013335</td>\n",
              "      <td>0.857286</td>\n",
              "      <td>0.348453</td>\n",
              "      <td>0.346061</td>\n",
              "      <td>20.95</td>\n",
              "    </tr>\n",
              "    <tr>\n",
              "      <th>2015-01-20</th>\n",
              "      <td>208.00</td>\n",
              "      <td>1377.4</td>\n",
              "      <td>46.79</td>\n",
              "      <td>2022.55</td>\n",
              "      <td>98485.0</td>\n",
              "      <td>3</td>\n",
              "      <td>0.041924</td>\n",
              "      <td>0.009116</td>\n",
              "      <td>-0.035688</td>\n",
              "      <td>0.001549</td>\n",
              "      <td>0.857176</td>\n",
              "      <td>0.348518</td>\n",
              "      <td>0.346647</td>\n",
              "      <td>19.89</td>\n",
              "    </tr>\n",
              "    <tr>\n",
              "      <th>2015-01-21</th>\n",
              "      <td>225.51</td>\n",
              "      <td>1378.4</td>\n",
              "      <td>47.85</td>\n",
              "      <td>2032.12</td>\n",
              "      <td>98485.0</td>\n",
              "      <td>3</td>\n",
              "      <td>0.080826</td>\n",
              "      <td>0.000726</td>\n",
              "      <td>0.022402</td>\n",
              "      <td>0.004720</td>\n",
              "      <td>0.893605</td>\n",
              "      <td>0.350149</td>\n",
              "      <td>0.347336</td>\n",
              "      <td>18.85</td>\n",
              "    </tr>\n",
              "    <tr>\n",
              "      <th>2015-01-22</th>\n",
              "      <td>226.32</td>\n",
              "      <td>1390.2</td>\n",
              "      <td>45.93</td>\n",
              "      <td>2063.15</td>\n",
              "      <td>93698.0</td>\n",
              "      <td>3</td>\n",
              "      <td>0.003585</td>\n",
              "      <td>0.008524</td>\n",
              "      <td>-0.040953</td>\n",
              "      <td>0.015154</td>\n",
              "      <td>0.904949</td>\n",
              "      <td>0.351242</td>\n",
              "      <td>0.343230</td>\n",
              "      <td>16.40</td>\n",
              "    </tr>\n",
              "    <tr>\n",
              "      <th>...</th>\n",
              "      <td>...</td>\n",
              "      <td>...</td>\n",
              "      <td>...</td>\n",
              "      <td>...</td>\n",
              "      <td>...</td>\n",
              "      <td>...</td>\n",
              "      <td>...</td>\n",
              "      <td>...</td>\n",
              "      <td>...</td>\n",
              "      <td>...</td>\n",
              "      <td>...</td>\n",
              "      <td>...</td>\n",
              "      <td>...</td>\n",
              "      <td>...</td>\n",
              "    </tr>\n",
              "    <tr>\n",
              "      <th>2020-01-27</th>\n",
              "      <td>8895.96</td>\n",
              "      <td>1589.5</td>\n",
              "      <td>53.09</td>\n",
              "      <td>3243.63</td>\n",
              "      <td>261247.0</td>\n",
              "      <td>13</td>\n",
              "      <td>0.054126</td>\n",
              "      <td>0.003529</td>\n",
              "      <td>-0.018661</td>\n",
              "      <td>-0.015856</td>\n",
              "      <td>0.400895</td>\n",
              "      <td>0.103554</td>\n",
              "      <td>0.281172</td>\n",
              "      <td>18.23</td>\n",
              "    </tr>\n",
              "    <tr>\n",
              "      <th>2020-01-28</th>\n",
              "      <td>9394.50</td>\n",
              "      <td>1581.7</td>\n",
              "      <td>53.33</td>\n",
              "      <td>3276.24</td>\n",
              "      <td>261247.0</td>\n",
              "      <td>13</td>\n",
              "      <td>0.054527</td>\n",
              "      <td>-0.004919</td>\n",
              "      <td>0.004510</td>\n",
              "      <td>0.010003</td>\n",
              "      <td>0.393217</td>\n",
              "      <td>0.104977</td>\n",
              "      <td>0.288948</td>\n",
              "      <td>16.28</td>\n",
              "    </tr>\n",
              "    <tr>\n",
              "      <th>2020-01-29</th>\n",
              "      <td>9288.44</td>\n",
              "      <td>1582.0</td>\n",
              "      <td>53.29</td>\n",
              "      <td>3273.40</td>\n",
              "      <td>340562.0</td>\n",
              "      <td>13</td>\n",
              "      <td>-0.011354</td>\n",
              "      <td>0.000190</td>\n",
              "      <td>-0.000750</td>\n",
              "      <td>-0.000867</td>\n",
              "      <td>0.397007</td>\n",
              "      <td>0.104557</td>\n",
              "      <td>0.292484</td>\n",
              "      <td>16.39</td>\n",
              "    </tr>\n",
              "    <tr>\n",
              "      <th>2020-01-30</th>\n",
              "      <td>9503.08</td>\n",
              "      <td>1595.1</td>\n",
              "      <td>52.19</td>\n",
              "      <td>3283.66</td>\n",
              "      <td>340562.0</td>\n",
              "      <td>13</td>\n",
              "      <td>0.022845</td>\n",
              "      <td>0.008247</td>\n",
              "      <td>-0.020858</td>\n",
              "      <td>0.003129</td>\n",
              "      <td>0.406765</td>\n",
              "      <td>0.104643</td>\n",
              "      <td>0.293114</td>\n",
              "      <td>15.49</td>\n",
              "    </tr>\n",
              "    <tr>\n",
              "      <th>2020-01-31</th>\n",
              "      <td>9334.98</td>\n",
              "      <td>1593.8</td>\n",
              "      <td>51.58</td>\n",
              "      <td>3225.52</td>\n",
              "      <td>340562.0</td>\n",
              "      <td>13</td>\n",
              "      <td>-0.017847</td>\n",
              "      <td>-0.000815</td>\n",
              "      <td>-0.011757</td>\n",
              "      <td>-0.017864</td>\n",
              "      <td>0.405851</td>\n",
              "      <td>0.104475</td>\n",
              "      <td>0.291680</td>\n",
              "      <td>18.84</td>\n",
              "    </tr>\n",
              "  </tbody>\n",
              "</table>\n",
              "<p>1262 rows × 14 columns</p>\n",
              "</div>"
            ],
            "text/plain": [
              "            btc_price  gold_price  oil_wti_price  ...      GVOL      OVOL    VIX\n",
              "date                                              ...                           \n",
              "2015-01-15     211.91      1352.8          46.37  ...  0.344132  0.344950  22.39\n",
              "2015-01-16     199.46      1364.9          48.49  ...  0.348453  0.346061  20.95\n",
              "2015-01-20     208.00      1377.4          46.79  ...  0.348518  0.346647  19.89\n",
              "2015-01-21     225.51      1378.4          47.85  ...  0.350149  0.347336  18.85\n",
              "2015-01-22     226.32      1390.2          45.93  ...  0.351242  0.343230  16.40\n",
              "...               ...         ...            ...  ...       ...       ...    ...\n",
              "2020-01-27    8895.96      1589.5          53.09  ...  0.103554  0.281172  18.23\n",
              "2020-01-28    9394.50      1581.7          53.33  ...  0.104977  0.288948  16.28\n",
              "2020-01-29    9288.44      1582.0          53.29  ...  0.104557  0.292484  16.39\n",
              "2020-01-30    9503.08      1595.1          52.19  ...  0.104643  0.293114  15.49\n",
              "2020-01-31    9334.98      1593.8          51.58  ...  0.104475  0.291680  18.84\n",
              "\n",
              "[1262 rows x 14 columns]"
            ]
          },
          "metadata": {
            "tags": []
          },
          "execution_count": 2
        }
      ]
    },
    {
      "cell_type": "code",
      "metadata": {
        "id": "u4pNyIgwQdl1"
      },
      "source": [
        "train_data = train_data[['btc_dr','gold_dr','oil_dr','sp500_dr']]\n",
        "X = train_data.values\n",
        "scalar = preprocessing.MinMaxScaler(feature_range=(0,1))\n",
        "X = scalar.fit_transform(X)"
      ],
      "execution_count": 3,
      "outputs": []
    },
    {
      "cell_type": "code",
      "metadata": {
        "id": "qwoe1f4bvzOh",
        "outputId": "eafeb4ad-436c-4c05-da8b-27c24fa4bcf9",
        "colab": {
          "base_uri": "https://localhost:8080/",
          "height": 50
        }
      },
      "source": [
        "X_train = []\n",
        "y_train = []\n",
        "\n",
        "n_future = len(test_data)   # Number of days we want top predict into the future\n",
        "timesteps = 5    # Number of past days we want to use to predict the future\n",
        "for i in range(timesteps, len(X) - n_future +1):\n",
        "    X_train.append(X[i - timesteps:i, 0:X.shape[1] - 1])\n",
        "    y_train.append(X[i + n_future - 1:i + n_future, 0])\n",
        "\n",
        "X_train, y_train = np.array(X_train), np.array(y_train)\n",
        "\n",
        "print(f'X_train shape = {X_train.shape}.')\n",
        "print(f'y_train shape = {y_train.shape}.')"
      ],
      "execution_count": 4,
      "outputs": [
        {
          "output_type": "stream",
          "text": [
            "X_train shape = (1201, 5, 3).\n",
            "y_train shape = (1201, 1).\n"
          ],
          "name": "stdout"
        }
      ]
    },
    {
      "cell_type": "code",
      "metadata": {
        "id": "9TbcyJYoVERP",
        "outputId": "1732424e-8bbd-4933-d99f-abbf6fb4d6b3",
        "colab": {
          "base_uri": "https://localhost:8080/",
          "height": 218
        }
      },
      "source": [
        "units = 128\n",
        "learning_rate = 0.0001\n",
        "\n",
        "def lstm_model():\n",
        "  model = Sequential()\n",
        "  model.add(LSTM(128,input_shape=(X_train.shape[1],X_train.shape[2]))) \n",
        "  model.add(Dense(1))\n",
        "  model.compile(optimizer='adam',loss='mae')\n",
        "  return model\n",
        "\n",
        "model = lstm_model()\n",
        "model.summary()"
      ],
      "execution_count": 5,
      "outputs": [
        {
          "output_type": "stream",
          "text": [
            "Model: \"sequential\"\n",
            "_________________________________________________________________\n",
            "Layer (type)                 Output Shape              Param #   \n",
            "=================================================================\n",
            "lstm (LSTM)                  (None, 128)               67584     \n",
            "_________________________________________________________________\n",
            "dense (Dense)                (None, 1)                 129       \n",
            "=================================================================\n",
            "Total params: 67,713\n",
            "Trainable params: 67,713\n",
            "Non-trainable params: 0\n",
            "_________________________________________________________________\n"
          ],
          "name": "stdout"
        }
      ]
    },
    {
      "cell_type": "code",
      "metadata": {
        "id": "B0EsstgJeUw2",
        "outputId": "aa0f0842-2fe7-4c3a-acdb-a153bf1af7e5",
        "colab": {
          "base_uri": "https://localhost:8080/",
          "height": 1000
        }
      },
      "source": [
        "model.fit(X_train,y_train,epochs=50,shuffle=False)"
      ],
      "execution_count": 6,
      "outputs": [
        {
          "output_type": "stream",
          "text": [
            "Epoch 1/50\n",
            "38/38 [==============================] - 0s 6ms/step - loss: 0.0871\n",
            "Epoch 2/50\n",
            "38/38 [==============================] - 0s 6ms/step - loss: 0.0403\n",
            "Epoch 3/50\n",
            "38/38 [==============================] - 0s 6ms/step - loss: 0.0399\n",
            "Epoch 4/50\n",
            "38/38 [==============================] - 0s 6ms/step - loss: 0.0399\n",
            "Epoch 5/50\n",
            "38/38 [==============================] - 0s 6ms/step - loss: 0.0402\n",
            "Epoch 6/50\n",
            "38/38 [==============================] - 0s 6ms/step - loss: 0.0398\n",
            "Epoch 7/50\n",
            "38/38 [==============================] - 0s 6ms/step - loss: 0.0396\n",
            "Epoch 8/50\n",
            "38/38 [==============================] - 0s 6ms/step - loss: 0.0389\n",
            "Epoch 9/50\n",
            "38/38 [==============================] - 0s 6ms/step - loss: 0.0392\n",
            "Epoch 10/50\n",
            "38/38 [==============================] - 0s 6ms/step - loss: 0.0387\n",
            "Epoch 11/50\n",
            "38/38 [==============================] - 0s 6ms/step - loss: 0.0388\n",
            "Epoch 12/50\n",
            "38/38 [==============================] - 0s 6ms/step - loss: 0.0384\n",
            "Epoch 13/50\n",
            "38/38 [==============================] - 0s 6ms/step - loss: 0.0387\n",
            "Epoch 14/50\n",
            "38/38 [==============================] - 0s 6ms/step - loss: 0.0385\n",
            "Epoch 15/50\n",
            "38/38 [==============================] - 0s 6ms/step - loss: 0.0382\n",
            "Epoch 16/50\n",
            "38/38 [==============================] - 0s 6ms/step - loss: 0.0382\n",
            "Epoch 17/50\n",
            "38/38 [==============================] - 0s 6ms/step - loss: 0.0382\n",
            "Epoch 18/50\n",
            "38/38 [==============================] - 0s 6ms/step - loss: 0.0381\n",
            "Epoch 19/50\n",
            "38/38 [==============================] - 0s 6ms/step - loss: 0.0382\n",
            "Epoch 20/50\n",
            "38/38 [==============================] - 0s 6ms/step - loss: 0.0380\n",
            "Epoch 21/50\n",
            "38/38 [==============================] - 0s 6ms/step - loss: 0.0379\n",
            "Epoch 22/50\n",
            "38/38 [==============================] - 0s 6ms/step - loss: 0.0380\n",
            "Epoch 23/50\n",
            "38/38 [==============================] - 0s 6ms/step - loss: 0.0380\n",
            "Epoch 24/50\n",
            "38/38 [==============================] - 0s 6ms/step - loss: 0.0377\n",
            "Epoch 25/50\n",
            "38/38 [==============================] - 0s 6ms/step - loss: 0.0379\n",
            "Epoch 26/50\n",
            "38/38 [==============================] - 0s 6ms/step - loss: 0.0376\n",
            "Epoch 27/50\n",
            "38/38 [==============================] - 0s 6ms/step - loss: 0.0376\n",
            "Epoch 28/50\n",
            "38/38 [==============================] - 0s 6ms/step - loss: 0.0378\n",
            "Epoch 29/50\n",
            "38/38 [==============================] - 0s 7ms/step - loss: 0.0375\n",
            "Epoch 30/50\n",
            "38/38 [==============================] - 0s 6ms/step - loss: 0.0376\n",
            "Epoch 31/50\n",
            "38/38 [==============================] - 0s 6ms/step - loss: 0.0374\n",
            "Epoch 32/50\n",
            "38/38 [==============================] - 0s 6ms/step - loss: 0.0376\n",
            "Epoch 33/50\n",
            "38/38 [==============================] - 0s 6ms/step - loss: 0.0373\n",
            "Epoch 34/50\n",
            "38/38 [==============================] - 0s 6ms/step - loss: 0.0373\n",
            "Epoch 35/50\n",
            "38/38 [==============================] - 0s 6ms/step - loss: 0.0375\n",
            "Epoch 36/50\n",
            "38/38 [==============================] - 0s 6ms/step - loss: 0.0373\n",
            "Epoch 37/50\n",
            "38/38 [==============================] - 0s 6ms/step - loss: 0.0374\n",
            "Epoch 38/50\n",
            "38/38 [==============================] - 0s 6ms/step - loss: 0.0373\n",
            "Epoch 39/50\n",
            "38/38 [==============================] - 0s 6ms/step - loss: 0.0373\n",
            "Epoch 40/50\n",
            "38/38 [==============================] - 0s 6ms/step - loss: 0.0373\n",
            "Epoch 41/50\n",
            "38/38 [==============================] - 0s 6ms/step - loss: 0.0372\n",
            "Epoch 42/50\n",
            "38/38 [==============================] - 0s 6ms/step - loss: 0.0373\n",
            "Epoch 43/50\n",
            "38/38 [==============================] - 0s 6ms/step - loss: 0.0374\n",
            "Epoch 44/50\n",
            "38/38 [==============================] - 0s 6ms/step - loss: 0.0374\n",
            "Epoch 45/50\n",
            "38/38 [==============================] - 0s 6ms/step - loss: 0.0371\n",
            "Epoch 46/50\n",
            "38/38 [==============================] - 0s 6ms/step - loss: 0.0371\n",
            "Epoch 47/50\n",
            "38/38 [==============================] - 0s 6ms/step - loss: 0.0372\n",
            "Epoch 48/50\n",
            "38/38 [==============================] - 0s 6ms/step - loss: 0.0371\n",
            "Epoch 49/50\n",
            "38/38 [==============================] - 0s 6ms/step - loss: 0.0372\n",
            "Epoch 50/50\n",
            "38/38 [==============================] - 0s 6ms/step - loss: 0.0374\n"
          ],
          "name": "stdout"
        },
        {
          "output_type": "execute_result",
          "data": {
            "text/plain": [
              "<tensorflow.python.keras.callbacks.History at 0x7f305dd00630>"
            ]
          },
          "metadata": {
            "tags": []
          },
          "execution_count": 6
        }
      ]
    },
    {
      "cell_type": "code",
      "metadata": {
        "id": "_VUBZ0qJ1ieP"
      },
      "source": [
        " p = model.predict(X_train[-n_future:])\n",
        "sc = preprocessing.MinMaxScaler(feature_range=(0,1))\n",
        "sc.fit(train_data.btc_dr.values.reshape((-1,1)))\n",
        "p = sc.inverse_transform(p)"
      ],
      "execution_count": 7,
      "outputs": []
    },
    {
      "cell_type": "code",
      "metadata": {
        "id": "NPbekNh89X_A",
        "outputId": "52a66f6d-b2cf-4d84-a37e-b80e534211d8",
        "colab": {
          "base_uri": "https://localhost:8080/",
          "height": 282
        }
      },
      "source": [
        "plt.figure()\n",
        "plt.plot(test_data.btc_dr.values)\n",
        "plt.plot(p*10)"
      ],
      "execution_count": 8,
      "outputs": [
        {
          "output_type": "execute_result",
          "data": {
            "text/plain": [
              "[<matplotlib.lines.Line2D at 0x7f305d0f2208>]"
            ]
          },
          "metadata": {
            "tags": []
          },
          "execution_count": 8
        },
        {
          "output_type": "display_data",
          "data": {
            "image/png": "[encoded data removed]",
            "text/plain": [
              "<Figure size 432x288 with 1 Axes>"
            ]
          },
          "metadata": {
            "tags": [],
            "needs_background": "light"
          }
        }
      ]
    },
    {
      "cell_type": "code",
      "metadata": {
        "id": "me1O81ed8p7Z"
      },
      "source": [
        ""
      ],
      "execution_count": 8,
      "outputs": []
    }
  ]
}