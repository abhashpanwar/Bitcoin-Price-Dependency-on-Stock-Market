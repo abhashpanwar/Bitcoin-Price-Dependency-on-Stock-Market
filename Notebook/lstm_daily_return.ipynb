{
  "nbformat": 4,
  "nbformat_minor": 0,
  "metadata": {
    "colab": {
      "name": "lstm_daily_return.ipynb",
      "provenance": []
    },
    "kernelspec": {
      "name": "python3",
      "display_name": "Python 3"
    }
  },
  "cells": [
    {
      "cell_type": "code",
      "metadata": {
        "id": "VtnvjOWANUT-"
      },
      "source": [
        "import pandas as pd\n",
        "import numpy as np\n",
        "import matplotlib.pyplot as plt\n",
        "from sklearn import preprocessing\n",
        "from sklearn import metrics\n",
        "from tensorflow import keras\n",
        "from keras.models import Sequential\n",
        "from keras.layers import Dense,LSTM,Bidirectional\n",
        "from keras.optimizers import Adam"
      ],
      "execution_count": null,
      "outputs": []
    },
    {
      "cell_type": "code",
      "metadata": {
        "id": "frrE1Nh-Nyqt",
        "outputId": "070917af-5bbc-4d9a-8530-d5d901ce8d95",
        "colab": {
          "base_uri": "https://localhost:8080/",
          "height": 225
        }
      },
      "source": [
        "\n",
        "df = pd.read_csv('/content/drive/My Drive/Sharer.pw/dataset_final.csv')\n",
        "df.set_index(pd.to_datetime(df.date),inplace=True)\n",
        "df.drop(['Unnamed: 0','date'],axis=1,inplace=True)\n",
        "df.head()\n",
        "\n",
        "#split the into train and test dataset\n",
        "test_data = pd.concat([df['2020-02'],df['2020-03'],df['2020-04']],axis=0)\n",
        "train_data = df[:-len(test_data)]\n",
        "\n",
        "train_data.head()"
      ],
      "execution_count": null,
      "outputs": [
        {
          "output_type": "execute_result",
          "data": {
            "text/html": [
              "<div>\n",
              "<style scoped>\n",
              "    .dataframe tbody tr th:only-of-type {\n",
              "        vertical-align: middle;\n",
              "    }\n",
              "\n",
              "    .dataframe tbody tr th {\n",
              "        vertical-align: top;\n",
              "    }\n",
              "\n",
              "    .dataframe thead th {\n",
              "        text-align: right;\n",
              "    }\n",
              "</style>\n",
              "<table border=\"1\" class=\"dataframe\">\n",
              "  <thead>\n",
              "    <tr style=\"text-align: right;\">\n",
              "      <th></th>\n",
              "      <th>btc_price</th>\n",
              "      <th>gold_price</th>\n",
              "      <th>oil_wti_price</th>\n",
              "      <th>sp500_close</th>\n",
              "      <th>btc_num_trans</th>\n",
              "      <th>btc_google_search</th>\n",
              "      <th>btc_dr</th>\n",
              "      <th>gold_dr</th>\n",
              "      <th>oil_dr</th>\n",
              "      <th>sp500_dr</th>\n",
              "      <th>BVOL</th>\n",
              "      <th>GVOL</th>\n",
              "      <th>OVOL</th>\n",
              "      <th>VIX</th>\n",
              "    </tr>\n",
              "    <tr>\n",
              "      <th>date</th>\n",
              "      <th></th>\n",
              "      <th></th>\n",
              "      <th></th>\n",
              "      <th></th>\n",
              "      <th></th>\n",
              "      <th></th>\n",
              "      <th></th>\n",
              "      <th></th>\n",
              "      <th></th>\n",
              "      <th></th>\n",
              "      <th></th>\n",
              "      <th></th>\n",
              "      <th></th>\n",
              "      <th></th>\n",
              "    </tr>\n",
              "  </thead>\n",
              "  <tbody>\n",
              "    <tr>\n",
              "      <th>2015-01-15</th>\n",
              "      <td>211.91</td>\n",
              "      <td>1352.8</td>\n",
              "      <td>46.37</td>\n",
              "      <td>1992.67</td>\n",
              "      <td>102309.0</td>\n",
              "      <td>3</td>\n",
              "      <td>0.568670</td>\n",
              "      <td>0.021141</td>\n",
              "      <td>-0.044705</td>\n",
              "      <td>-0.009291</td>\n",
              "      <td>0.853974</td>\n",
              "      <td>0.344132</td>\n",
              "      <td>0.344950</td>\n",
              "      <td>22.39</td>\n",
              "    </tr>\n",
              "    <tr>\n",
              "      <th>2015-01-16</th>\n",
              "      <td>199.46</td>\n",
              "      <td>1364.9</td>\n",
              "      <td>48.49</td>\n",
              "      <td>2019.42</td>\n",
              "      <td>104699.0</td>\n",
              "      <td>3</td>\n",
              "      <td>-0.060548</td>\n",
              "      <td>0.008905</td>\n",
              "      <td>0.044705</td>\n",
              "      <td>0.013335</td>\n",
              "      <td>0.857286</td>\n",
              "      <td>0.348453</td>\n",
              "      <td>0.346061</td>\n",
              "      <td>20.95</td>\n",
              "    </tr>\n",
              "    <tr>\n",
              "      <th>2015-01-20</th>\n",
              "      <td>208.00</td>\n",
              "      <td>1377.4</td>\n",
              "      <td>46.79</td>\n",
              "      <td>2022.55</td>\n",
              "      <td>98485.0</td>\n",
              "      <td>3</td>\n",
              "      <td>0.041924</td>\n",
              "      <td>0.009116</td>\n",
              "      <td>-0.035688</td>\n",
              "      <td>0.001549</td>\n",
              "      <td>0.857176</td>\n",
              "      <td>0.348518</td>\n",
              "      <td>0.346647</td>\n",
              "      <td>19.89</td>\n",
              "    </tr>\n",
              "    <tr>\n",
              "      <th>2015-01-21</th>\n",
              "      <td>225.51</td>\n",
              "      <td>1378.4</td>\n",
              "      <td>47.85</td>\n",
              "      <td>2032.12</td>\n",
              "      <td>98485.0</td>\n",
              "      <td>3</td>\n",
              "      <td>0.080826</td>\n",
              "      <td>0.000726</td>\n",
              "      <td>0.022402</td>\n",
              "      <td>0.004720</td>\n",
              "      <td>0.893605</td>\n",
              "      <td>0.350149</td>\n",
              "      <td>0.347336</td>\n",
              "      <td>18.85</td>\n",
              "    </tr>\n",
              "    <tr>\n",
              "      <th>2015-01-22</th>\n",
              "      <td>226.32</td>\n",
              "      <td>1390.2</td>\n",
              "      <td>45.93</td>\n",
              "      <td>2063.15</td>\n",
              "      <td>93698.0</td>\n",
              "      <td>3</td>\n",
              "      <td>0.003585</td>\n",
              "      <td>0.008524</td>\n",
              "      <td>-0.040953</td>\n",
              "      <td>0.015154</td>\n",
              "      <td>0.904949</td>\n",
              "      <td>0.351242</td>\n",
              "      <td>0.343230</td>\n",
              "      <td>16.40</td>\n",
              "    </tr>\n",
              "  </tbody>\n",
              "</table>\n",
              "</div>"
            ],
            "text/plain": [
              "            btc_price  gold_price  oil_wti_price  ...      GVOL      OVOL    VIX\n",
              "date                                              ...                           \n",
              "2015-01-15     211.91      1352.8          46.37  ...  0.344132  0.344950  22.39\n",
              "2015-01-16     199.46      1364.9          48.49  ...  0.348453  0.346061  20.95\n",
              "2015-01-20     208.00      1377.4          46.79  ...  0.348518  0.346647  19.89\n",
              "2015-01-21     225.51      1378.4          47.85  ...  0.350149  0.347336  18.85\n",
              "2015-01-22     226.32      1390.2          45.93  ...  0.351242  0.343230  16.40\n",
              "\n",
              "[5 rows x 14 columns]"
            ]
          },
          "metadata": {
            "tags": []
          },
          "execution_count": 4
        }
      ]
    },
    {
      "cell_type": "code",
      "metadata": {
        "id": "u4pNyIgwQdl1"
      },
      "source": [
        "#selecting the daily returns form the dataset\n",
        "train_data = train_data[['btc_dr','gold_dr','oil_dr','sp500_dr']]\n",
        "X = train_data.values\n",
        "scalar = preprocessing.MinMaxScaler(feature_range=(0,1))\n",
        "X = scalar.fit_transform(X)"
      ],
      "execution_count": null,
      "outputs": []
    },
    {
      "cell_type": "code",
      "metadata": {
        "id": "qwoe1f4bvzOh",
        "outputId": "cba677c6-f3b7-4b3c-fdcd-d435ea0dac68",
        "colab": {
          "base_uri": "https://localhost:8080/",
          "height": 50
        }
      },
      "source": [
        "X_train = []\n",
        "y_train = []\n",
        "\n",
        "# Number of days we want top predict into the future\n",
        "n_future = len(test_data)   \n",
        "# Number of past days we want to use to predict the future\n",
        "timesteps = 5    \n",
        "for i in range(timesteps, len(X) - n_future +1):\n",
        "    X_train.append(X[i - timesteps:i, 0:X.shape[1] - 1])\n",
        "    y_train.append(X[i + n_future - 1:i + n_future, 0])\n",
        "\n",
        "X_train, y_train = np.array(X_train), np.array(y_train)\n",
        "\n",
        "print(f'X_train shape = {X_train.shape}.')\n",
        "print(f'y_train shape = {y_train.shape}.')"
      ],
      "execution_count": null,
      "outputs": [
        {
          "output_type": "stream",
          "text": [
            "X_train shape = (1201, 5, 3).\n",
            "y_train shape = (1201, 1).\n"
          ],
          "name": "stdout"
        }
      ]
    },
    {
      "cell_type": "code",
      "metadata": {
        "id": "9TbcyJYoVERP",
        "outputId": "2d25637f-f760-4648-cfca-e676691e166c",
        "colab": {
          "base_uri": "https://localhost:8080/",
          "height": 218
        }
      },
      "source": [
        "#defining LSTM model\n",
        "def lstm_model():\n",
        "  model = Sequential()\n",
        "  model.add(Bidirectional(LSTM(64,activation='relu'),input_shape=(X_train.shape[1],X_train.shape[2])))\n",
        "\n",
        "  model.add(Dense(1))\n",
        "  adam = Adam(learning_rate=0.0001, beta_1=10, beta_2=0.999, epsilon=1e-07)\n",
        "  model.compile(optimizer='adam',loss='mae')\n",
        "  return model\n",
        "\n",
        "model = lstm_model()\n",
        "model.summary()"
      ],
      "execution_count": null,
      "outputs": [
        {
          "output_type": "stream",
          "text": [
            "Model: \"sequential_10\"\n",
            "_________________________________________________________________\n",
            "Layer (type)                 Output Shape              Param #   \n",
            "=================================================================\n",
            "bidirectional_4 (Bidirection (None, 128)               34816     \n",
            "_________________________________________________________________\n",
            "dense_7 (Dense)              (None, 1)                 129       \n",
            "=================================================================\n",
            "Total params: 34,945\n",
            "Trainable params: 34,945\n",
            "Non-trainable params: 0\n",
            "_________________________________________________________________\n"
          ],
          "name": "stdout"
        }
      ]
    },
    {
      "cell_type": "code",
      "metadata": {
        "id": "B0EsstgJeUw2",
        "outputId": "b8477a3a-844b-4c1a-bb44-a39365ab942f",
        "colab": {
          "base_uri": "https://localhost:8080/",
          "height": 1000
        }
      },
      "source": [
        "#fit the model\n",
        "model.fit(X_train,y_train,epochs=100,shuffle=False)"
      ],
      "execution_count": null,
      "outputs": [
        {
          "output_type": "stream",
          "text": [
            "Epoch 1/100\n",
            "38/38 [==============================] - 0s 8ms/step - loss: 0.0380\n",
            "Epoch 2/100\n",
            "38/38 [==============================] - 0s 8ms/step - loss: 0.0380\n",
            "Epoch 3/100\n",
            "38/38 [==============================] - 0s 8ms/step - loss: 0.0380\n",
            "Epoch 4/100\n",
            "38/38 [==============================] - 0s 6ms/step - loss: 0.0379\n",
            "Epoch 5/100\n",
            "38/38 [==============================] - 0s 7ms/step - loss: 0.0378\n",
            "Epoch 6/100\n",
            "38/38 [==============================] - 0s 7ms/step - loss: 0.0378\n",
            "Epoch 7/100\n",
            "38/38 [==============================] - 0s 6ms/step - loss: 0.0378\n",
            "Epoch 8/100\n",
            "38/38 [==============================] - 0s 6ms/step - loss: 0.0377\n",
            "Epoch 9/100\n",
            "38/38 [==============================] - 0s 6ms/step - loss: 0.0377\n",
            "Epoch 10/100\n",
            "38/38 [==============================] - 0s 6ms/step - loss: 0.0377\n",
            "Epoch 11/100\n",
            "38/38 [==============================] - 0s 6ms/step - loss: 0.0376\n",
            "Epoch 12/100\n",
            "38/38 [==============================] - 0s 6ms/step - loss: 0.0377\n",
            "Epoch 13/100\n",
            "38/38 [==============================] - 0s 6ms/step - loss: 0.0375\n",
            "Epoch 14/100\n",
            "38/38 [==============================] - 0s 7ms/step - loss: 0.0377\n",
            "Epoch 15/100\n",
            "38/38 [==============================] - 0s 7ms/step - loss: 0.0374\n",
            "Epoch 16/100\n",
            "38/38 [==============================] - 0s 7ms/step - loss: 0.0375\n",
            "Epoch 17/100\n",
            "38/38 [==============================] - 0s 6ms/step - loss: 0.0373\n",
            "Epoch 18/100\n",
            "38/38 [==============================] - 0s 6ms/step - loss: 0.0374\n",
            "Epoch 19/100\n",
            "38/38 [==============================] - 0s 6ms/step - loss: 0.0373\n",
            "Epoch 20/100\n",
            "38/38 [==============================] - 0s 6ms/step - loss: 0.0374\n",
            "Epoch 21/100\n",
            "38/38 [==============================] - 0s 6ms/step - loss: 0.0373\n",
            "Epoch 22/100\n",
            "38/38 [==============================] - 0s 6ms/step - loss: 0.0375\n",
            "Epoch 23/100\n",
            "38/38 [==============================] - 0s 6ms/step - loss: 0.0375\n",
            "Epoch 24/100\n",
            "38/38 [==============================] - 0s 6ms/step - loss: 0.0375\n",
            "Epoch 25/100\n",
            "38/38 [==============================] - 0s 6ms/step - loss: 0.0373\n",
            "Epoch 26/100\n",
            "38/38 [==============================] - 0s 6ms/step - loss: 0.0373\n",
            "Epoch 27/100\n",
            "38/38 [==============================] - 0s 5ms/step - loss: 0.0373\n",
            "Epoch 28/100\n",
            "38/38 [==============================] - 0s 6ms/step - loss: 0.0373\n",
            "Epoch 29/100\n",
            "38/38 [==============================] - 0s 6ms/step - loss: 0.0373\n",
            "Epoch 30/100\n",
            "38/38 [==============================] - 0s 6ms/step - loss: 0.0374\n",
            "Epoch 31/100\n",
            "38/38 [==============================] - 0s 6ms/step - loss: 0.0373\n",
            "Epoch 32/100\n",
            "38/38 [==============================] - 0s 5ms/step - loss: 0.0372\n",
            "Epoch 33/100\n",
            "38/38 [==============================] - 0s 6ms/step - loss: 0.0372\n",
            "Epoch 34/100\n",
            "38/38 [==============================] - 0s 6ms/step - loss: 0.0372\n",
            "Epoch 35/100\n",
            "38/38 [==============================] - 0s 5ms/step - loss: 0.0373\n",
            "Epoch 36/100\n",
            "38/38 [==============================] - 0s 5ms/step - loss: 0.0373\n",
            "Epoch 37/100\n",
            "38/38 [==============================] - 0s 5ms/step - loss: 0.0373\n",
            "Epoch 38/100\n",
            "38/38 [==============================] - 0s 6ms/step - loss: 0.0372\n",
            "Epoch 39/100\n",
            "38/38 [==============================] - 0s 5ms/step - loss: 0.0373\n",
            "Epoch 40/100\n",
            "38/38 [==============================] - 0s 6ms/step - loss: 0.0371\n",
            "Epoch 41/100\n",
            "38/38 [==============================] - 0s 6ms/step - loss: 0.0372\n",
            "Epoch 42/100\n",
            "38/38 [==============================] - 0s 6ms/step - loss: 0.0372\n",
            "Epoch 43/100\n",
            "38/38 [==============================] - 0s 5ms/step - loss: 0.0372\n",
            "Epoch 44/100\n",
            "38/38 [==============================] - 0s 6ms/step - loss: 0.0372\n",
            "Epoch 45/100\n",
            "38/38 [==============================] - 0s 5ms/step - loss: 0.0372\n",
            "Epoch 46/100\n",
            "38/38 [==============================] - 0s 5ms/step - loss: 0.0373\n",
            "Epoch 47/100\n",
            "38/38 [==============================] - 0s 6ms/step - loss: 0.0370\n",
            "Epoch 48/100\n",
            "38/38 [==============================] - 0s 5ms/step - loss: 0.0372\n",
            "Epoch 49/100\n",
            "38/38 [==============================] - 0s 6ms/step - loss: 0.0370\n",
            "Epoch 50/100\n",
            "38/38 [==============================] - 0s 6ms/step - loss: 0.0372\n",
            "Epoch 51/100\n",
            "38/38 [==============================] - 0s 6ms/step - loss: 0.0368\n",
            "Epoch 52/100\n",
            "38/38 [==============================] - 0s 6ms/step - loss: 0.0370\n",
            "Epoch 53/100\n",
            "38/38 [==============================] - 0s 6ms/step - loss: 0.0369\n",
            "Epoch 54/100\n",
            "38/38 [==============================] - 0s 5ms/step - loss: 0.0370\n",
            "Epoch 55/100\n",
            "38/38 [==============================] - 0s 6ms/step - loss: 0.0368\n",
            "Epoch 56/100\n",
            "38/38 [==============================] - 0s 6ms/step - loss: 0.0369\n",
            "Epoch 57/100\n",
            "38/38 [==============================] - 0s 6ms/step - loss: 0.0369\n",
            "Epoch 58/100\n",
            "38/38 [==============================] - 0s 5ms/step - loss: 0.0368\n",
            "Epoch 59/100\n",
            "38/38 [==============================] - 0s 5ms/step - loss: 0.0368\n",
            "Epoch 60/100\n",
            "38/38 [==============================] - 0s 6ms/step - loss: 0.0369\n",
            "Epoch 61/100\n",
            "38/38 [==============================] - 0s 6ms/step - loss: 0.0368\n",
            "Epoch 62/100\n",
            "38/38 [==============================] - 0s 6ms/step - loss: 0.0368\n",
            "Epoch 63/100\n",
            "38/38 [==============================] - 0s 6ms/step - loss: 0.0369\n",
            "Epoch 64/100\n",
            "38/38 [==============================] - 0s 5ms/step - loss: 0.0368\n",
            "Epoch 65/100\n",
            "38/38 [==============================] - 0s 6ms/step - loss: 0.0368\n",
            "Epoch 66/100\n",
            "38/38 [==============================] - 0s 6ms/step - loss: 0.0368\n",
            "Epoch 67/100\n",
            "38/38 [==============================] - 0s 6ms/step - loss: 0.0368\n",
            "Epoch 68/100\n",
            "38/38 [==============================] - 0s 6ms/step - loss: 0.0368\n",
            "Epoch 69/100\n",
            "38/38 [==============================] - 0s 6ms/step - loss: 0.0367\n",
            "Epoch 70/100\n",
            "38/38 [==============================] - 0s 5ms/step - loss: 0.0368\n",
            "Epoch 71/100\n",
            "38/38 [==============================] - 0s 5ms/step - loss: 0.0368\n",
            "Epoch 72/100\n",
            "38/38 [==============================] - 0s 5ms/step - loss: 0.0368\n",
            "Epoch 73/100\n",
            "38/38 [==============================] - 0s 6ms/step - loss: 0.0368\n",
            "Epoch 74/100\n",
            "38/38 [==============================] - 0s 6ms/step - loss: 0.0367\n",
            "Epoch 75/100\n",
            "38/38 [==============================] - 0s 5ms/step - loss: 0.0368\n",
            "Epoch 76/100\n",
            "38/38 [==============================] - 0s 5ms/step - loss: 0.0368\n",
            "Epoch 77/100\n",
            "38/38 [==============================] - 0s 6ms/step - loss: 0.0367\n",
            "Epoch 78/100\n",
            "38/38 [==============================] - 0s 6ms/step - loss: 0.0367\n",
            "Epoch 79/100\n",
            "38/38 [==============================] - 0s 6ms/step - loss: 0.0369\n",
            "Epoch 80/100\n",
            "38/38 [==============================] - 0s 6ms/step - loss: 0.0367\n",
            "Epoch 81/100\n",
            "38/38 [==============================] - 0s 5ms/step - loss: 0.0367\n",
            "Epoch 82/100\n",
            "38/38 [==============================] - 0s 6ms/step - loss: 0.0367\n",
            "Epoch 83/100\n",
            "38/38 [==============================] - 0s 6ms/step - loss: 0.0367\n",
            "Epoch 84/100\n",
            "38/38 [==============================] - 0s 6ms/step - loss: 0.0367\n",
            "Epoch 85/100\n",
            "38/38 [==============================] - 0s 5ms/step - loss: 0.0367\n",
            "Epoch 86/100\n",
            "38/38 [==============================] - 0s 6ms/step - loss: 0.0367\n",
            "Epoch 87/100\n",
            "38/38 [==============================] - 0s 5ms/step - loss: 0.0367\n",
            "Epoch 88/100\n",
            "38/38 [==============================] - 0s 5ms/step - loss: 0.0367\n",
            "Epoch 89/100\n",
            "38/38 [==============================] - 0s 6ms/step - loss: 0.0367\n",
            "Epoch 90/100\n",
            "38/38 [==============================] - 0s 5ms/step - loss: 0.0367\n",
            "Epoch 91/100\n",
            "38/38 [==============================] - 0s 5ms/step - loss: 0.0366\n",
            "Epoch 92/100\n",
            "38/38 [==============================] - 0s 6ms/step - loss: 0.0367\n",
            "Epoch 93/100\n",
            "38/38 [==============================] - 0s 6ms/step - loss: 0.0366\n",
            "Epoch 94/100\n",
            "38/38 [==============================] - 0s 5ms/step - loss: 0.0366\n",
            "Epoch 95/100\n",
            "38/38 [==============================] - 0s 6ms/step - loss: 0.0366\n",
            "Epoch 96/100\n",
            "38/38 [==============================] - 0s 5ms/step - loss: 0.0365\n",
            "Epoch 97/100\n",
            "38/38 [==============================] - 0s 6ms/step - loss: 0.0365\n",
            "Epoch 98/100\n",
            "38/38 [==============================] - 0s 5ms/step - loss: 0.0365\n",
            "Epoch 99/100\n",
            "38/38 [==============================] - 0s 5ms/step - loss: 0.0366\n",
            "Epoch 100/100\n",
            "38/38 [==============================] - 0s 5ms/step - loss: 0.0365\n"
          ],
          "name": "stdout"
        },
        {
          "output_type": "execute_result",
          "data": {
            "text/plain": [
              "<tensorflow.python.keras.callbacks.History at 0x7f778ddb2e10>"
            ]
          },
          "metadata": {
            "tags": []
          },
          "execution_count": 47
        }
      ]
    },
    {
      "cell_type": "code",
      "metadata": {
        "id": "_VUBZ0qJ1ieP"
      },
      "source": [
        "#forecast bitcoin daily returns\n",
        "pred = model.predict(X_train[-n_future:])\n",
        "sc = preprocessing.MinMaxScaler(feature_range=(0,1))\n",
        "sc.fit(train_data.btc_dr.values.reshape((-1,1)))\n",
        "pred = sc.inverse_transform(pred)"
      ],
      "execution_count": null,
      "outputs": []
    },
    {
      "cell_type": "code",
      "metadata": {
        "id": "NPbekNh89X_A",
        "outputId": "490e60cd-3bdb-4d14-fe07-e184709b449e",
        "colab": {
          "base_uri": "https://localhost:8080/",
          "height": 282
        }
      },
      "source": [
        "#plotting the test values and predicted values\n",
        "plt.figure()\n",
        "plt.plot(test_data.btc_dr.values)\n",
        "plt.plot(pred*10)"
      ],
      "execution_count": null,
      "outputs": [
        {
          "output_type": "execute_result",
          "data": {
            "text/plain": [
              "[<matplotlib.lines.Line2D at 0x7f778dda6908>]"
            ]
          },
          "metadata": {
            "tags": []
          },
          "execution_count": 50
        },
        {
          "output_type": "display_data",
          "data": {
            "image/png": "[encoded data removed]",
            "text/plain": [
              "<Figure size 432x288 with 1 Axes>"
            ]
          },
          "metadata": {
            "tags": [],
            "needs_background": "light"
          }
        }
      ]
    },
    {
      "cell_type": "code",
      "metadata": {
        "id": "me1O81ed8p7Z"
      },
      "source": [
        ""
      ],
      "execution_count": null,
      "outputs": []
    }
  ]
}